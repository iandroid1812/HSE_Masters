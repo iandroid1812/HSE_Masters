{
 "cells": [
  {
   "cell_type": "code",
   "execution_count": 1,
   "metadata": {},
   "outputs": [],
   "source": [
    "import os, sys\n",
    "\n",
    "parent = os.path.abspath('..')\n",
    "sys.path.insert(1, parent)"
   ]
  },
  {
   "cell_type": "code",
   "execution_count": 2,
   "metadata": {},
   "outputs": [],
   "source": [
    "from helper_funcs.preprocessing import total_timeseries, get_covariates, embeddings_init\n",
    "\n",
    "from darts.dataprocessing.transformers import StaticCovariatesTransformer\n",
    "from darts.utils.model_selection import train_test_split\n",
    "from darts.models import BlockRNNModel\n",
    "\n",
    "from sklearn.model_selection import cross_val_score\n",
    "from sklearn import preprocessing\n",
    "from sklearn import linear_model\n",
    "\n",
    "import pandas as pd\n",
    "import numpy as np\n",
    "\n",
    "import matplotlib.pyplot as plt"
   ]
  },
  {
   "cell_type": "code",
   "execution_count": 3,
   "metadata": {},
   "outputs": [],
   "source": [
    "EXP_MA = 15\n",
    "TEST_SIZE = 0.2"
   ]
  },
  {
   "cell_type": "code",
   "execution_count": 4,
   "metadata": {},
   "outputs": [],
   "source": [
    "timeseries = total_timeseries(EXP_MA, market=False, sentiment=True, embeddings=True, large=True)"
   ]
  },
  {
   "cell_type": "code",
   "execution_count": 5,
   "metadata": {},
   "outputs": [],
   "source": [
    "train, val = train_test_split(\n",
    "    timeseries,\n",
    "    axis=1,\n",
    "    test_size=TEST_SIZE\n",
    ")\n",
    "\n",
    "data = [train, val]\n",
    "\n",
    "target_train, past_train, future_train, target_val, past_val, future_val, target_test, past_test, future_test = get_covariates(\n",
    "    data,\n",
    "    target='sentiment_score_2',\n",
    "    past_covariates=[],\n",
    "    embeddings=True\n",
    "    )"
   ]
  },
  {
   "cell_type": "code",
   "execution_count": 7,
   "metadata": {},
   "outputs": [
    {
     "name": "stdout",
     "output_type": "stream",
     "text": [
      "True data for Apple: 0.9313945900206475\n",
      "Artificial data : 0.7207027661160836\n",
      "------------------------------------\n",
      "True data for Amazon: 0.9310057918357457\n",
      "Artificial data : 0.7063353494010232\n",
      "------------------------------------\n",
      "True data for Google_1: 0.9133097275013186\n",
      "Artificial data : 0.7122631474516651\n",
      "------------------------------------\n",
      "True data for Google_2: 0.9146352157316393\n",
      "Artificial data : 0.7569013702875348\n",
      "------------------------------------\n",
      "True data for Microsoft: 0.9228723506769817\n",
      "Artificial data : 0.7330599691191713\n",
      "------------------------------------\n",
      "True data for Tesla: 0.9635194158656059\n",
      "Artificial data : 0.7389078215619178\n",
      "------------------------------------\n"
     ]
    }
   ],
   "source": [
    "companies = ['Apple', 'Amazon', 'Google_1', 'Google_2', 'Microsoft', 'Tesla']\n",
    "true = []\n",
    "artificial = []\n",
    "\n",
    "for i in range(6):\n",
    "    X = past_train[i].pd_dataframe().reset_index(drop=True).to_numpy()\n",
    "    X_artificial = np.random.randn(*X.shape)\n",
    "    y = target_train[i].pd_dataframe().reset_index(drop=True).to_numpy()\n",
    "\n",
    "    X_val = past_val[i].pd_dataframe().reset_index(drop=True).to_numpy()\n",
    "    y_val = target_val[i].pd_dataframe().reset_index(drop=True).to_numpy()\n",
    "\n",
    "    model = linear_model.LinearRegression().fit(X, y)\n",
    "    print(f'True data for {companies[i]}: {model.score(X, y)}')\n",
    "    true.append(model.score(X, y))\n",
    "\n",
    "    model = linear_model.LinearRegression().fit(X_artificial, y)\n",
    "    print('Artificial data :', model.score(X_artificial, y))\n",
    "    artificial.append(model.score(X_artificial, y))\n",
    "\n",
    "    print(\"------------------------------------\")"
   ]
  },
  {
   "cell_type": "code",
   "execution_count": null,
   "metadata": {},
   "outputs": [],
   "source": [
    "del true[3]"
   ]
  },
  {
   "cell_type": "code",
   "execution_count": null,
   "metadata": {},
   "outputs": [],
   "source": [
    "del artificial[3]"
   ]
  },
  {
   "cell_type": "code",
   "execution_count": null,
   "metadata": {},
   "outputs": [],
   "source": [
    "df = pd.DataFrame(\n",
    "    list(zip(true, artificial)),\n",
    "    columns = ['True', 'Artificial'],\n",
    "    index = ['Apple', 'Amazon', 'Google', 'Microsoft', 'Tesla']\n",
    ")"
   ]
  },
  {
   "cell_type": "code",
   "execution_count": null,
   "metadata": {},
   "outputs": [],
   "source": [
    "print(df.to_latex())"
   ]
  },
  {
   "cell_type": "code",
   "execution_count": null,
   "metadata": {},
   "outputs": [],
   "source": []
  }
 ],
 "metadata": {
  "kernelspec": {
   "display_name": "hse",
   "language": "python",
   "name": "python3"
  },
  "language_info": {
   "codemirror_mode": {
    "name": "ipython",
    "version": 3
   },
   "file_extension": ".py",
   "mimetype": "text/x-python",
   "name": "python",
   "nbconvert_exporter": "python",
   "pygments_lexer": "ipython3",
   "version": "3.10.8 (main, Nov 24 2022, 14:13:03) [GCC 11.2.0]"
  },
  "orig_nbformat": 4,
  "vscode": {
   "interpreter": {
    "hash": "02409fb671b1ed46b2b92a72e18ceb6708409a9b6d1d011f25cd31b784aeb6de"
   }
  }
 },
 "nbformat": 4,
 "nbformat_minor": 2
}
