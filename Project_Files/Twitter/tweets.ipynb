{
 "cells": [
  {
   "attachments": {},
   "cell_type": "markdown",
   "metadata": {},
   "source": [
    "# Import"
   ]
  },
  {
   "cell_type": "code",
   "execution_count": 1,
   "metadata": {},
   "outputs": [
    {
     "name": "stderr",
     "output_type": "stream",
     "text": [
      "[nltk_data] Downloading package stopwords to /home/andrei/nltk_data...\n",
      "[nltk_data]   Package stopwords is already up-to-date!\n"
     ]
    }
   ],
   "source": [
    "import pickle\n",
    "\n",
    "from transformers import RobertaForSequenceClassification, RobertaTokenizer\n",
    "from transformers import pipeline\n",
    "import torch\n",
    "import pandas as pd\n",
    "import emoji\n",
    "import re\n",
    "from os.path import exists\n",
    "import dataframe_image as dfi\n",
    "\n",
    "from torch.utils.data import DataLoader,SequentialSampler,TensorDataset\n",
    "import pandas_ta as ta\n",
    "import time\n",
    "import numpy as np\n",
    "\n",
    "import spacy\n",
    "import nltk\n",
    "from nltk.corpus import stopwords\n",
    "from sentence_transformers import *\n",
    "\n",
    "nltk.download('stopwords')\n",
    "stopwords = nltk.corpus.stopwords.words('english')\n",
    "\n",
    "device = torch.device(\"cuda\" if torch.cuda.is_available() else \"cpu\")\n",
    "from scipy.cluster import hierarchy as sch\n",
    "\n",
    "from bertopic import BERTopic\n",
    "from umap import UMAP\n",
    "from hdbscan import HDBSCAN"
   ]
  },
  {
   "cell_type": "code",
   "execution_count": 2,
   "metadata": {},
   "outputs": [],
   "source": [
    "data = pd.read_pickle('Datasets/market/market_sentiment.pkl')"
   ]
  },
  {
   "cell_type": "code",
   "execution_count": 3,
   "metadata": {},
   "outputs": [],
   "source": [
    "apple = data[data.Ticker=='AAPL']"
   ]
  },
  {
   "cell_type": "code",
   "execution_count": 4,
   "metadata": {},
   "outputs": [],
   "source": [
    "apple['ewm'] = apple.sentiment.ewm(14).mean()"
   ]
  },
  {
   "cell_type": "code",
   "execution_count": 5,
   "metadata": {},
   "outputs": [],
   "source": [
    "apple['ema'] = ta.ema(apple[\"sentiment\"], length=14)"
   ]
  },
  {
   "cell_type": "code",
   "execution_count": 6,
   "metadata": {},
   "outputs": [
    {
     "data": {
      "text/html": [
       "<div>\n",
       "<style scoped>\n",
       "    .dataframe tbody tr th:only-of-type {\n",
       "        vertical-align: middle;\n",
       "    }\n",
       "\n",
       "    .dataframe tbody tr th {\n",
       "        vertical-align: top;\n",
       "    }\n",
       "\n",
       "    .dataframe thead th {\n",
       "        text-align: right;\n",
       "    }\n",
       "</style>\n",
       "<table border=\"1\" class=\"dataframe\">\n",
       "  <thead>\n",
       "    <tr style=\"text-align: right;\">\n",
       "      <th>component</th>\n",
       "      <th>Date</th>\n",
       "      <th>Adj Close</th>\n",
       "      <th>Close</th>\n",
       "      <th>High</th>\n",
       "      <th>Low</th>\n",
       "      <th>Open</th>\n",
       "      <th>Volume</th>\n",
       "      <th>holidays</th>\n",
       "      <th>Ticker</th>\n",
       "      <th>sentiment</th>\n",
       "      <th>ewm</th>\n",
       "      <th>ema</th>\n",
       "    </tr>\n",
       "  </thead>\n",
       "  <tbody>\n",
       "    <tr>\n",
       "      <th>0</th>\n",
       "      <td>2015-01-02</td>\n",
       "      <td>24.603209</td>\n",
       "      <td>27.332500</td>\n",
       "      <td>27.860001</td>\n",
       "      <td>26.837500</td>\n",
       "      <td>27.847500</td>\n",
       "      <td>212818400.0</td>\n",
       "      <td>0.0</td>\n",
       "      <td>AAPL</td>\n",
       "      <td>0.451456</td>\n",
       "      <td>0.451456</td>\n",
       "      <td>NaN</td>\n",
       "    </tr>\n",
       "    <tr>\n",
       "      <th>6</th>\n",
       "      <td>2015-01-05</td>\n",
       "      <td>23.910091</td>\n",
       "      <td>26.562500</td>\n",
       "      <td>27.162500</td>\n",
       "      <td>26.352501</td>\n",
       "      <td>27.072500</td>\n",
       "      <td>257142000.0</td>\n",
       "      <td>0.0</td>\n",
       "      <td>AAPL</td>\n",
       "      <td>0.444978</td>\n",
       "      <td>0.448105</td>\n",
       "      <td>NaN</td>\n",
       "    </tr>\n",
       "    <tr>\n",
       "      <th>12</th>\n",
       "      <td>2015-01-06</td>\n",
       "      <td>23.912342</td>\n",
       "      <td>26.565001</td>\n",
       "      <td>26.857500</td>\n",
       "      <td>26.157499</td>\n",
       "      <td>26.635000</td>\n",
       "      <td>263188400.0</td>\n",
       "      <td>0.0</td>\n",
       "      <td>AAPL</td>\n",
       "      <td>0.41693</td>\n",
       "      <td>0.436989</td>\n",
       "      <td>NaN</td>\n",
       "    </tr>\n",
       "    <tr>\n",
       "      <th>18</th>\n",
       "      <td>2015-01-07</td>\n",
       "      <td>24.247650</td>\n",
       "      <td>26.937500</td>\n",
       "      <td>27.049999</td>\n",
       "      <td>26.674999</td>\n",
       "      <td>26.799999</td>\n",
       "      <td>160423600.0</td>\n",
       "      <td>0.0</td>\n",
       "      <td>AAPL</td>\n",
       "      <td>0.394427</td>\n",
       "      <td>0.425223</td>\n",
       "      <td>NaN</td>\n",
       "    </tr>\n",
       "    <tr>\n",
       "      <th>24</th>\n",
       "      <td>2015-01-08</td>\n",
       "      <td>25.179296</td>\n",
       "      <td>27.972500</td>\n",
       "      <td>28.037500</td>\n",
       "      <td>27.174999</td>\n",
       "      <td>27.307501</td>\n",
       "      <td>237458000.0</td>\n",
       "      <td>0.0</td>\n",
       "      <td>AAPL</td>\n",
       "      <td>0.367257</td>\n",
       "      <td>0.411978</td>\n",
       "      <td>NaN</td>\n",
       "    </tr>\n",
       "    <tr>\n",
       "      <th>...</th>\n",
       "      <td>...</td>\n",
       "      <td>...</td>\n",
       "      <td>...</td>\n",
       "      <td>...</td>\n",
       "      <td>...</td>\n",
       "      <td>...</td>\n",
       "      <td>...</td>\n",
       "      <td>...</td>\n",
       "      <td>...</td>\n",
       "      <td>...</td>\n",
       "      <td>...</td>\n",
       "      <td>...</td>\n",
       "    </tr>\n",
       "    <tr>\n",
       "      <th>7788</th>\n",
       "      <td>2019-12-25</td>\n",
       "      <td>69.623230</td>\n",
       "      <td>71.067497</td>\n",
       "      <td>71.222504</td>\n",
       "      <td>70.730003</td>\n",
       "      <td>71.172501</td>\n",
       "      <td>48478800.0</td>\n",
       "      <td>1.0</td>\n",
       "      <td>AAPL</td>\n",
       "      <td>0.377232</td>\n",
       "      <td>0.389381</td>\n",
       "      <td>0.389013</td>\n",
       "    </tr>\n",
       "    <tr>\n",
       "      <th>7794</th>\n",
       "      <td>2019-12-26</td>\n",
       "      <td>71.004585</td>\n",
       "      <td>72.477501</td>\n",
       "      <td>72.495003</td>\n",
       "      <td>71.175003</td>\n",
       "      <td>71.205002</td>\n",
       "      <td>93121200.0</td>\n",
       "      <td>0.0</td>\n",
       "      <td>AAPL</td>\n",
       "      <td>0.375746</td>\n",
       "      <td>0.388472</td>\n",
       "      <td>0.387244</td>\n",
       "    </tr>\n",
       "    <tr>\n",
       "      <th>7800</th>\n",
       "      <td>2019-12-27</td>\n",
       "      <td>70.977631</td>\n",
       "      <td>72.449997</td>\n",
       "      <td>73.492500</td>\n",
       "      <td>72.029999</td>\n",
       "      <td>72.779999</td>\n",
       "      <td>146266000.0</td>\n",
       "      <td>0.0</td>\n",
       "      <td>AAPL</td>\n",
       "      <td>0.402397</td>\n",
       "      <td>0.389400</td>\n",
       "      <td>0.389264</td>\n",
       "    </tr>\n",
       "    <tr>\n",
       "      <th>7806</th>\n",
       "      <td>2019-12-30</td>\n",
       "      <td>71.398888</td>\n",
       "      <td>72.879997</td>\n",
       "      <td>73.172501</td>\n",
       "      <td>71.305000</td>\n",
       "      <td>72.364998</td>\n",
       "      <td>144114400.0</td>\n",
       "      <td>0.0</td>\n",
       "      <td>AAPL</td>\n",
       "      <td>0.398724</td>\n",
       "      <td>0.390022</td>\n",
       "      <td>0.390526</td>\n",
       "    </tr>\n",
       "    <tr>\n",
       "      <th>7812</th>\n",
       "      <td>2019-12-31</td>\n",
       "      <td>71.920578</td>\n",
       "      <td>73.412498</td>\n",
       "      <td>73.419998</td>\n",
       "      <td>72.379997</td>\n",
       "      <td>72.482498</td>\n",
       "      <td>100805600.0</td>\n",
       "      <td>0.0</td>\n",
       "      <td>AAPL</td>\n",
       "      <td>0.398128</td>\n",
       "      <td>0.390562</td>\n",
       "      <td>0.391539</td>\n",
       "    </tr>\n",
       "  </tbody>\n",
       "</table>\n",
       "<p>1303 rows × 12 columns</p>\n",
       "</div>"
      ],
      "text/plain": [
       "component        Date  Adj Close      Close       High        Low       Open  \\\n",
       "0          2015-01-02  24.603209  27.332500  27.860001  26.837500  27.847500   \n",
       "6          2015-01-05  23.910091  26.562500  27.162500  26.352501  27.072500   \n",
       "12         2015-01-06  23.912342  26.565001  26.857500  26.157499  26.635000   \n",
       "18         2015-01-07  24.247650  26.937500  27.049999  26.674999  26.799999   \n",
       "24         2015-01-08  25.179296  27.972500  28.037500  27.174999  27.307501   \n",
       "...               ...        ...        ...        ...        ...        ...   \n",
       "7788       2019-12-25  69.623230  71.067497  71.222504  70.730003  71.172501   \n",
       "7794       2019-12-26  71.004585  72.477501  72.495003  71.175003  71.205002   \n",
       "7800       2019-12-27  70.977631  72.449997  73.492500  72.029999  72.779999   \n",
       "7806       2019-12-30  71.398888  72.879997  73.172501  71.305000  72.364998   \n",
       "7812       2019-12-31  71.920578  73.412498  73.419998  72.379997  72.482498   \n",
       "\n",
       "component       Volume  holidays Ticker sentiment       ewm       ema  \n",
       "0          212818400.0       0.0   AAPL  0.451456  0.451456       NaN  \n",
       "6          257142000.0       0.0   AAPL  0.444978  0.448105       NaN  \n",
       "12         263188400.0       0.0   AAPL   0.41693  0.436989       NaN  \n",
       "18         160423600.0       0.0   AAPL  0.394427  0.425223       NaN  \n",
       "24         237458000.0       0.0   AAPL  0.367257  0.411978       NaN  \n",
       "...                ...       ...    ...       ...       ...       ...  \n",
       "7788        48478800.0       1.0   AAPL  0.377232  0.389381  0.389013  \n",
       "7794        93121200.0       0.0   AAPL  0.375746  0.388472  0.387244  \n",
       "7800       146266000.0       0.0   AAPL  0.402397  0.389400  0.389264  \n",
       "7806       144114400.0       0.0   AAPL  0.398724  0.390022  0.390526  \n",
       "7812       100805600.0       0.0   AAPL  0.398128  0.390562  0.391539  \n",
       "\n",
       "[1303 rows x 12 columns]"
      ]
     },
     "execution_count": 6,
     "metadata": {},
     "output_type": "execute_result"
    }
   ],
   "source": [
    "apple"
   ]
  },
  {
   "cell_type": "code",
   "execution_count": 7,
   "metadata": {},
   "outputs": [
    {
     "data": {
      "text/plain": [
       "<AxesSubplot: >"
      ]
     },
     "execution_count": 7,
     "metadata": {},
     "output_type": "execute_result"
    },
    {
     "data": {
      "image/png": "[encoded data removed]",
      "text/plain": [
       "<Figure size 640x480 with 1 Axes>"
      ]
     },
     "metadata": {},
     "output_type": "display_data"
    }
   ],
   "source": [
    "apple.ema.plot()"
   ]
  },
  {
   "cell_type": "code",
   "execution_count": 8,
   "metadata": {},
   "outputs": [
    {
     "data": {
      "text/plain": [
       "<AxesSubplot: >"
      ]
     },
     "execution_count": 8,
     "metadata": {},
     "output_type": "execute_result"
    },
    {
     "data": {
      "image/png": "[encoded data removed]",
      "text/plain": [
       "<Figure size 640x480 with 1 Axes>"
      ]
     },
     "metadata": {},
     "output_type": "display_data"
    }
   ],
   "source": [
    "apple['ewm'].plot()"
   ]
  },
  {
   "attachments": {},
   "cell_type": "markdown",
   "metadata": {},
   "source": [
    "# Load tweets"
   ]
  },
  {
   "cell_type": "code",
   "execution_count": 9,
   "metadata": {},
   "outputs": [],
   "source": [
    "tweets_path = \"Datasets/kaggle/Tweet.csv\"\n",
    "id_to_ticker_path = \"Datasets/kaggle/Company_Tweet.csv\"\n",
    "ticker_to_name_path = \"Datasets/kaggle/Company.csv\""
   ]
  },
  {
   "cell_type": "code",
   "execution_count": 10,
   "metadata": {},
   "outputs": [],
   "source": [
    "def init_datasets():\n",
    "    tweets_df = pd.read_csv(tweets_path)\n",
    "    tickers_df = pd.read_csv(id_to_ticker_path)\n",
    "    company_name_df = pd.read_csv(ticker_to_name_path)\n",
    "\n",
    "    tweets_df.post_date = pd.to_datetime(tweets_df.post_date, unit='s', origin='unix') # Converting to datetime\n",
    "\n",
    "    single_stock = tickers_df.tweet_id.value_counts()\n",
    "    single_stock = pd.Series(single_stock[single_stock == 1].index)\n",
    "\n",
    "    return tweets_df, single_stock, tickers_df"
   ]
  },
  {
   "cell_type": "code",
   "execution_count": 11,
   "metadata": {},
   "outputs": [],
   "source": [
    "tweets_df, single_stock, tickers_df = init_datasets()"
   ]
  },
  {
   "cell_type": "code",
   "execution_count": 12,
   "metadata": {},
   "outputs": [],
   "source": [
    "if exists(\"Datasets/results/preprocessing/final.pkl\"):\n",
    "    tickers_df = pd.read_pickle(\"Datasets/results/preprocessing/tickers_df.pkl\")\n",
    "    pass\n",
    "elif exists(\"Datasets/results/preprocessing/tweets_df.pkl\") and exists(\"Datasets/results/preprocessing/single_stock.pkl\"):\n",
    "    tweets_df = pd.read_pickle(\"Datasets/results/preprocessing/tweets_df.pkl\")\n",
    "    single_stock = pd.read_pickle(\"Datasets/results/preprocessing/single_stock.pkl\")\n",
    "else:\n",
    "    tweets_df, single_stock, tickers_df = init_datasets()\n",
    "    tweets_df.to_pickle(\"Datasets/results/preprocessing/tweets_df.pkl\")\n",
    "    single_stock.to_pickle(\"Datasets/results/preprocessing/single_stock.pkl\")\n",
    "    tickers_df.to_pickle(\"Datasets/results/preprocessing/tickers_df.pkl\")"
   ]
  },
  {
   "attachments": {},
   "cell_type": "markdown",
   "metadata": {},
   "source": [
    "# Preprocessing"
   ]
  },
  {
   "attachments": {},
   "cell_type": "markdown",
   "metadata": {},
   "source": [
    "### Remove tweets with more than 1 stock"
   ]
  },
  {
   "cell_type": "code",
   "execution_count": 13,
   "metadata": {},
   "outputs": [
    {
     "name": "stdout",
     "output_type": "stream",
     "text": [
      "421101 tweets were removed - 11.33 %\n"
     ]
    }
   ],
   "source": [
    "if exists(\"Datasets/results/preprocessing/final.pkl\") or exists(\"Datasets/results/preprocessing/preprocessed.pkl\"):\n",
    "    print(\"421101 tweets were removed - 11.33 %\")\n",
    "else:\n",
    "    clean_tweets = tweets_df[tweets_df.tweet_id.isin(single_stock)].reset_index(drop=True)\n",
    "    print(f\"{tweets_df.shape[0] - clean_tweets.shape[0]} tweets were removed \\\n",
    "    - {((1 - (clean_tweets.shape[0] / tweets_df.shape[0])) * 100):.2f} %\")"
   ]
  },
  {
   "attachments": {},
   "cell_type": "markdown",
   "metadata": {},
   "source": [
    "### Remove intraday duplicates by complete matches"
   ]
  },
  {
   "cell_type": "code",
   "execution_count": 14,
   "metadata": {},
   "outputs": [
    {
     "name": "stdout",
     "output_type": "stream",
     "text": [
      "160160 tweets were removed - 4.86 %\n"
     ]
    }
   ],
   "source": [
    "if exists(\"Datasets/results/preprocessing/final.pkl\") or exists(\"Datasets/results/preprocessing/preprocessed.pkl\"):\n",
    "    print(\"160160 tweets were removed - 4.86 %\")\n",
    "else:\n",
    "    a = clean_tweets.shape[0]\n",
    "    clean_tweets = clean_tweets.assign(day=clean_tweets['post_date'].dt.date).drop_duplicates(subset=(['day', 'body'])).drop('day',axis=1).reset_index(drop=True)\n",
    "    b = clean_tweets.shape[0]\n",
    "    print(f\"{a-b} tweets were removed - {((1 - (a/b))*100):.2f} %\")"
   ]
  },
  {
   "attachments": {},
   "cell_type": "markdown",
   "metadata": {},
   "source": [
    "### Text clean"
   ]
  },
  {
   "cell_type": "code",
   "execution_count": 15,
   "metadata": {},
   "outputs": [],
   "source": [
    "def clean_text(x):\n",
    "    x = re.sub(r'http[s]?://\\S+', ' ', x) # remove links (caused problems so had to move here)\n",
    "    x = re.sub(r'[?<=^|\\s](\\w*-?\\w+\\.[a-z]{2,}\\S*)', ' ', x) # remove links\n",
    "    x = re.sub(r'\\$[A-Za-z]+', ' ', x) # remove tickers\n",
    "    x = re.sub(r'\\@[A-Za-z]+', ' ', x) # remove mentions\n",
    "    x = x.lower() # lowercase everything\n",
    "    x = x.encode('ascii', 'ignore').decode()  # remove unicode characters\n",
    "    # cleaning up text\n",
    "    x = re.sub(r'\\d', ' ', x)\n",
    "    x = re.sub(r'[\"“”\\*+-/:;<=>\\\\^_`{|}~]', ' ', x) # remove useless punctuation\n",
    "    x = re.sub(r'\\s{2,}', ' ', x)\n",
    "    x = re.sub(r'\\s[^\\w\\s]\\s', '', x)\n",
    "    return x.strip()"
   ]
  },
  {
   "cell_type": "code",
   "execution_count": 16,
   "metadata": {},
   "outputs": [],
   "source": [
    "if not exists(\"Datasets/results/preprocessing/final.pkl\") and not exists(\"Datasets/results/preprocessing/preprocessed.pkl\"):\n",
    "    clean_tweets['preprocessed'] = clean_tweets.body.apply(lambda tweet: clean_text(tweet))"
   ]
  },
  {
   "attachments": {},
   "cell_type": "markdown",
   "metadata": {},
   "source": [
    "### Remove intraday duplicates after preprocessing"
   ]
  },
  {
   "cell_type": "code",
   "execution_count": 17,
   "metadata": {},
   "outputs": [
    {
     "name": "stdout",
     "output_type": "stream",
     "text": [
      "359478 tweets were removed\n"
     ]
    }
   ],
   "source": [
    "if exists(\"Datasets/results/preprocessing/final.pkl\") or exists(\"Datasets/results/preprocessing/preprocessed.pkl\"):\n",
    "    print(\"359478 tweets were removed\")\n",
    "else:\n",
    "    a = clean_tweets.shape[0]\n",
    "    clean_tweets = clean_tweets.assign(day=clean_tweets['post_date'].dt.date).drop_duplicates(subset=(['day', 'preprocessed'])).drop('day',axis=1).reset_index(drop=True)\n",
    "    b = clean_tweets.shape[0]\n",
    "    print(f\"{a-b} tweets were removed\")"
   ]
  },
  {
   "attachments": {},
   "cell_type": "markdown",
   "metadata": {},
   "source": [
    "### Combine tweet interactions into 1 feature"
   ]
  },
  {
   "cell_type": "code",
   "execution_count": 18,
   "metadata": {},
   "outputs": [],
   "source": [
    "if not exists(\"Datasets/results/preprocessing/final.pkl\") and not exists(\"Datasets/results/preprocessing/preprocessed.pkl\"):\n",
    "    clean_tweets['interactions'] = clean_tweets.comment_num + clean_tweets.retweet_num + clean_tweets.like_num\n",
    "    clean_tweets.drop(clean_tweets.filter([\"comment_num\", \"retweet_num\", \"like_num\", \"writer\"]), inplace=True, axis=1)\n",
    "    clean_tweets.to_pickle(\"Datasets/results/preprocessing/preprocessed.pkl\")"
   ]
  },
  {
   "attachments": {},
   "cell_type": "markdown",
   "metadata": {},
   "source": [
    "# Sentiment analysis"
   ]
  },
  {
   "cell_type": "code",
   "execution_count": 19,
   "metadata": {},
   "outputs": [],
   "source": [
    "tokenizer_sentiment = RobertaTokenizer.from_pretrained('zhayunduo/roberta-base-stocktwits-finetuned')\n",
    "model_sentiment = RobertaForSequenceClassification.from_pretrained('zhayunduo/roberta-base-stocktwits-finetuned')"
   ]
  },
  {
   "cell_type": "code",
   "execution_count": 20,
   "metadata": {},
   "outputs": [],
   "source": [
    "def batch_checkSenti(texts,model=model_sentiment,tokenizer=tokenizer_sentiment,return_logits=False):\n",
    "  start = time.time()\n",
    "  input_ids = []\n",
    "  attention_masks = []\n",
    "  for text in texts:\n",
    "      encoded_data = tokenizer.encode_plus(\n",
    "      text,\n",
    "      add_special_tokens=True,\n",
    "      truncation=True,\n",
    "      max_length=64,\n",
    "      padding='max_length',\n",
    "      return_attention_mask= True,\n",
    "      return_tensors='pt'\n",
    "      )\n",
    "\n",
    "      input_ids.append(encoded_data['input_ids'])\n",
    "      attention_masks.append(encoded_data['attention_mask'])\n",
    "\n",
    "  input_ids = torch.cat(input_ids,dim=0)\n",
    "  attention_masks = torch.cat(attention_masks,dim=0)\n",
    "\n",
    "  model.to(device)\n",
    "  \n",
    "  print(f'It takes {time.time() - start}s to tokenize')\n",
    "  checkpointtime = time.time()\n",
    "\n",
    "  testset = TensorDataset(input_ids,attention_masks)\n",
    "  test_dl = DataLoader(testset,sampler = SequentialSampler(testset),batch_size = 128)\n",
    "\n",
    "  predictions = []\n",
    "  for batch in test_dl:\n",
    "      batch = tuple(b.to(device) for b in batch)\n",
    "      inputs = {\n",
    "          'input_ids':batch[0],\n",
    "          'attention_mask': batch[1],\n",
    "      }\n",
    "\n",
    "      with torch.no_grad():\n",
    "          outputs = model(**inputs)\n",
    "\n",
    "      logits = outputs[0]\n",
    "      logits = logits.detach().cpu().numpy()\n",
    "      predictions.append(logits)\n",
    "\n",
    "  predictions = np.concatenate(predictions,axis=0)\n",
    "  index = predictions.argmax(axis=1)\n",
    "  print(f'It takes {time.time() - checkpointtime}s to do predictions')\n",
    "\n",
    "  return (index, predictions) if return_logits else index"
   ]
  },
  {
   "cell_type": "code",
   "execution_count": 21,
   "metadata": {},
   "outputs": [],
   "source": [
    "if exists(\"Datasets/results/preprocessing/final.pkl\"):\n",
    "    pass\n",
    "elif  exists(\"Datasets/results/preprocessing/sentiment_finetuned.pkl\"):\n",
    "    clean_tweets = pd.read_pickle(\"Datasets/results/preprocessing/sentiment_finetuned.pkl\")\n",
    "else:\n",
    "    clean_tweets = pd.read_pickle(\"Datasets/results/preprocessing/preprocessed.pkl\")\n",
    "    clean_tweets_sentiment = batch_checkSenti(clean_tweets.preprocessed)\n",
    "    clean_tweets = clean_tweets.join(\n",
    "        pd.Series(clean_tweets_sentiment, name='sentiment_score')\n",
    "        )\n",
    "    clean_tweets.to_pickle(\"Datasets/results/preprocessing/sentiment_finetuned.pkl\")"
   ]
  },
  {
   "attachments": {},
   "cell_type": "markdown",
   "metadata": {},
   "source": [
    "### Compare Sentiment finetuned with FinBert"
   ]
  },
  {
   "cell_type": "code",
   "execution_count": 22,
   "metadata": {},
   "outputs": [],
   "source": [
    "def comparison():\n",
    "    clean_tweets_old = pd.read_pickle(\"Datasets/results/preprocessing/tweets_total.pkl\")\n",
    "    compare = pd.merge(clean_tweets_old, clean_tweets[['tweet_id', 'sentiment_score']], on='tweet_id', how='left')\n",
    "    diff = compare[(compare.label=='Positive') & (compare.sentiment_score == 0)]\n",
    "    return diff"
   ]
  },
  {
   "cell_type": "code",
   "execution_count": 23,
   "metadata": {},
   "outputs": [],
   "source": [
    "# diff = comparison()\n",
    "# diff[100:120]"
   ]
  },
  {
   "cell_type": "code",
   "execution_count": 24,
   "metadata": {},
   "outputs": [],
   "source": [
    "# diff.loc[6284].body"
   ]
  },
  {
   "attachments": {},
   "cell_type": "markdown",
   "metadata": {},
   "source": [
    "# Lemmatization"
   ]
  },
  {
   "cell_type": "code",
   "execution_count": 25,
   "metadata": {},
   "outputs": [],
   "source": [
    "def lemmatize_pipe(doc):\n",
    "    lemma_list = [str(tok.lemma_).lower() for tok in doc\n",
    "                  if tok.is_alpha and tok.text.lower() not in stopwords] \n",
    "    return lemma_list\n",
    "\n",
    "def preprocess_pipe(texts):\n",
    "    preproc_pipe = [lemmatize_pipe(doc) for doc in nlp.pipe(texts, batch_size=512, n_process=-1)]\n",
    "    return preproc_pipe"
   ]
  },
  {
   "cell_type": "code",
   "execution_count": 27,
   "metadata": {},
   "outputs": [],
   "source": [
    "if exists(\"Datasets/results/preprocessing/final.pkl\"):\n",
    "    clean_tweets = pd.read_pickle(\"Datasets/results/preprocessing/final.pkl\")\n",
    "else:\n",
    "    clean_tweets['preprocessed'] = clean_tweets['preprocessed'].str.replace('[^ \\w+]', '')\n",
    "    nlp = spacy.load(\"en_core_web_sm\")\n",
    "    clean_tweets['lemmatized'] = preprocess_pipe(clean_tweets['preprocessed'])\n",
    "    clean_tweets['cleaned'] = clean_tweets.lemmatized.apply(lambda x: ' '.join(x))\n",
    "    clean_tweets = clean_tweets.drop_duplicates(subset=['cleaned']).reset_index(drop=True)\n",
    "    clean_tweets.to_pickle(\"Datasets/results/preprocessing/final.pkl\")"
   ]
  },
  {
   "cell_type": "code",
   "execution_count": 28,
   "metadata": {},
   "outputs": [
    {
     "data": {
      "text/html": [
       "<div>\n",
       "<style scoped>\n",
       "    .dataframe tbody tr th:only-of-type {\n",
       "        vertical-align: middle;\n",
       "    }\n",
       "\n",
       "    .dataframe tbody tr th {\n",
       "        vertical-align: top;\n",
       "    }\n",
       "\n",
       "    .dataframe thead th {\n",
       "        text-align: right;\n",
       "    }\n",
       "</style>\n",
       "<table border=\"1\" class=\"dataframe\">\n",
       "  <thead>\n",
       "    <tr style=\"text-align: right;\">\n",
       "      <th></th>\n",
       "      <th>tweet_id</th>\n",
       "      <th>post_date</th>\n",
       "      <th>body</th>\n",
       "      <th>preprocessed</th>\n",
       "      <th>interactions</th>\n",
       "      <th>sentiment_score</th>\n",
       "      <th>lemmatized</th>\n",
       "      <th>cleaned</th>\n",
       "    </tr>\n",
       "  </thead>\n",
       "  <tbody>\n",
       "    <tr>\n",
       "      <th>0</th>\n",
       "      <td>550441509175443456</td>\n",
       "      <td>2015-01-01 00:00:57</td>\n",
       "      <td>lx21 made $10,008  on $AAPL -Check it out! htt...</td>\n",
       "      <td>lx madeon check it out learn howtotrade</td>\n",
       "      <td>1</td>\n",
       "      <td>0</td>\n",
       "      <td>[lx, madeon, check, learn, howtotrade]</td>\n",
       "      <td>lx madeon check learn howtotrade</td>\n",
       "    </tr>\n",
       "    <tr>\n",
       "      <th>1</th>\n",
       "      <td>550441672312512512</td>\n",
       "      <td>2015-01-01 00:01:36</td>\n",
       "      <td>Insanity of today weirdo massive selling. $aap...</td>\n",
       "      <td>insanity of today weirdo massive selling bid u...</td>\n",
       "      <td>0</td>\n",
       "      <td>0</td>\n",
       "      <td>[insanity, today, weirdo, massive, selling, bi...</td>\n",
       "      <td>insanity today weirdo massive selling bid cent...</td>\n",
       "    </tr>\n",
       "    <tr>\n",
       "      <th>2</th>\n",
       "      <td>550441732014223360</td>\n",
       "      <td>2015-01-01 00:01:50</td>\n",
       "      <td>S&amp;P100 #Stocks Performance $HD $LOW $SBUX $TGT...</td>\n",
       "      <td>sp stocks performance more</td>\n",
       "      <td>0</td>\n",
       "      <td>1</td>\n",
       "      <td>[sp, stock, performance]</td>\n",
       "      <td>sp stock performance</td>\n",
       "    </tr>\n",
       "    <tr>\n",
       "      <th>3</th>\n",
       "      <td>550442977802207232</td>\n",
       "      <td>2015-01-01 00:06:47</td>\n",
       "      <td>$GM $TSLA: Volkswagen Pushes 2014 Record Recal...</td>\n",
       "      <td>volkswagen pushes record recall tally higher</td>\n",
       "      <td>1</td>\n",
       "      <td>0</td>\n",
       "      <td>[volkswagen, pushes, record, recall, tally, high]</td>\n",
       "      <td>volkswagen pushes record recall tally high</td>\n",
       "    </tr>\n",
       "    <tr>\n",
       "      <th>4</th>\n",
       "      <td>550444969924653056</td>\n",
       "      <td>2015-01-01 00:14:42</td>\n",
       "      <td>$AAPL Apple goes global with 'Start Something ...</td>\n",
       "      <td>apple goes global with start something new ad ...</td>\n",
       "      <td>1</td>\n",
       "      <td>1</td>\n",
       "      <td>[apple, go, global, start, something, new, ad,...</td>\n",
       "      <td>apple go global start something new ad campaign</td>\n",
       "    </tr>\n",
       "    <tr>\n",
       "      <th>...</th>\n",
       "      <td>...</td>\n",
       "      <td>...</td>\n",
       "      <td>...</td>\n",
       "      <td>...</td>\n",
       "      <td>...</td>\n",
       "      <td>...</td>\n",
       "      <td>...</td>\n",
       "      <td>...</td>\n",
       "    </tr>\n",
       "    <tr>\n",
       "      <th>2360616</th>\n",
       "      <td>1212159254884433921</td>\n",
       "      <td>2019-12-31 23:51:01</td>\n",
       "      <td>Imagine calling your broker-dealer and wanting...</td>\n",
       "      <td>imagine calling your broker dealer and wanting...</td>\n",
       "      <td>2</td>\n",
       "      <td>1</td>\n",
       "      <td>[imagine, call, broker, dealer, want, buy, goo...</td>\n",
       "      <td>imagine call broker dealer want buy good chunk...</td>\n",
       "    </tr>\n",
       "    <tr>\n",
       "      <th>2360617</th>\n",
       "      <td>1212159275637886976</td>\n",
       "      <td>2019-12-31 23:51:06</td>\n",
       "      <td>$AAPL yearly~ Heck of a year.. Jan. 2, 1999~ar...</td>\n",
       "      <td>yearly heck of a year jan around bucks lolhave...</td>\n",
       "      <td>1</td>\n",
       "      <td>1</td>\n",
       "      <td>[yearly, heck, year, jan, around, buck, lolhav...</td>\n",
       "      <td>yearly heck year jan around buck lolhave frien...</td>\n",
       "    </tr>\n",
       "    <tr>\n",
       "      <th>2360618</th>\n",
       "      <td>1212159765914079234</td>\n",
       "      <td>2019-12-31 23:53:03</td>\n",
       "      <td>That $SPY $SPX puuump in the last hour was the...</td>\n",
       "      <td>that puuump in the last hour was the eoy eoq e...</td>\n",
       "      <td>7</td>\n",
       "      <td>1</td>\n",
       "      <td>[puuump, last, hour, eoy, eoq, eom, top, windo...</td>\n",
       "      <td>puuump last hour eoy eoq eom top window dressi...</td>\n",
       "    </tr>\n",
       "    <tr>\n",
       "      <th>2360619</th>\n",
       "      <td>1212159838882533376</td>\n",
       "      <td>2019-12-31 23:53:21</td>\n",
       "      <td>In 2020 I may start Tweeting out positive news...</td>\n",
       "      <td>in i may start tweeting out positive news abou...</td>\n",
       "      <td>1</td>\n",
       "      <td>0</td>\n",
       "      <td>[may, start, tweet, positive, news, every, neg...</td>\n",
       "      <td>may start tweet positive news every negative t...</td>\n",
       "    </tr>\n",
       "    <tr>\n",
       "      <th>2360620</th>\n",
       "      <td>1212160015332728833</td>\n",
       "      <td>2019-12-31 23:54:03</td>\n",
       "      <td>Patiently Waiting for the no twitter sitter tw...</td>\n",
       "      <td>patiently waiting for the no twitter sitter tw...</td>\n",
       "      <td>5</td>\n",
       "      <td>0</td>\n",
       "      <td>[patiently, wait, twitter, sitter, tweet]</td>\n",
       "      <td>patiently wait twitter sitter tweet</td>\n",
       "    </tr>\n",
       "  </tbody>\n",
       "</table>\n",
       "<p>2360621 rows × 8 columns</p>\n",
       "</div>"
      ],
      "text/plain": [
       "                    tweet_id           post_date  \\\n",
       "0         550441509175443456 2015-01-01 00:00:57   \n",
       "1         550441672312512512 2015-01-01 00:01:36   \n",
       "2         550441732014223360 2015-01-01 00:01:50   \n",
       "3         550442977802207232 2015-01-01 00:06:47   \n",
       "4         550444969924653056 2015-01-01 00:14:42   \n",
       "...                      ...                 ...   \n",
       "2360616  1212159254884433921 2019-12-31 23:51:01   \n",
       "2360617  1212159275637886976 2019-12-31 23:51:06   \n",
       "2360618  1212159765914079234 2019-12-31 23:53:03   \n",
       "2360619  1212159838882533376 2019-12-31 23:53:21   \n",
       "2360620  1212160015332728833 2019-12-31 23:54:03   \n",
       "\n",
       "                                                      body  \\\n",
       "0        lx21 made $10,008  on $AAPL -Check it out! htt...   \n",
       "1        Insanity of today weirdo massive selling. $aap...   \n",
       "2        S&P100 #Stocks Performance $HD $LOW $SBUX $TGT...   \n",
       "3        $GM $TSLA: Volkswagen Pushes 2014 Record Recal...   \n",
       "4        $AAPL Apple goes global with 'Start Something ...   \n",
       "...                                                    ...   \n",
       "2360616  Imagine calling your broker-dealer and wanting...   \n",
       "2360617  $AAPL yearly~ Heck of a year.. Jan. 2, 1999~ar...   \n",
       "2360618  That $SPY $SPX puuump in the last hour was the...   \n",
       "2360619  In 2020 I may start Tweeting out positive news...   \n",
       "2360620  Patiently Waiting for the no twitter sitter tw...   \n",
       "\n",
       "                                              preprocessed  interactions  \\\n",
       "0                  lx madeon check it out learn howtotrade             1   \n",
       "1        insanity of today weirdo massive selling bid u...             0   \n",
       "2                               sp stocks performance more             0   \n",
       "3             volkswagen pushes record recall tally higher             1   \n",
       "4        apple goes global with start something new ad ...             1   \n",
       "...                                                    ...           ...   \n",
       "2360616  imagine calling your broker dealer and wanting...             2   \n",
       "2360617  yearly heck of a year jan around bucks lolhave...             1   \n",
       "2360618  that puuump in the last hour was the eoy eoq e...             7   \n",
       "2360619  in i may start tweeting out positive news abou...             1   \n",
       "2360620  patiently waiting for the no twitter sitter tw...             5   \n",
       "\n",
       "         sentiment_score                                         lemmatized  \\\n",
       "0                      0             [lx, madeon, check, learn, howtotrade]   \n",
       "1                      0  [insanity, today, weirdo, massive, selling, bi...   \n",
       "2                      1                           [sp, stock, performance]   \n",
       "3                      0  [volkswagen, pushes, record, recall, tally, high]   \n",
       "4                      1  [apple, go, global, start, something, new, ad,...   \n",
       "...                  ...                                                ...   \n",
       "2360616                1  [imagine, call, broker, dealer, want, buy, goo...   \n",
       "2360617                1  [yearly, heck, year, jan, around, buck, lolhav...   \n",
       "2360618                1  [puuump, last, hour, eoy, eoq, eom, top, windo...   \n",
       "2360619                0  [may, start, tweet, positive, news, every, neg...   \n",
       "2360620                0          [patiently, wait, twitter, sitter, tweet]   \n",
       "\n",
       "                                                   cleaned  \n",
       "0                         lx madeon check learn howtotrade  \n",
       "1        insanity today weirdo massive selling bid cent...  \n",
       "2                                     sp stock performance  \n",
       "3               volkswagen pushes record recall tally high  \n",
       "4          apple go global start something new ad campaign  \n",
       "...                                                    ...  \n",
       "2360616  imagine call broker dealer want buy good chunk...  \n",
       "2360617  yearly heck year jan around buck lolhave frien...  \n",
       "2360618  puuump last hour eoy eoq eom top window dressi...  \n",
       "2360619  may start tweet positive news every negative t...  \n",
       "2360620                patiently wait twitter sitter tweet  \n",
       "\n",
       "[2360621 rows x 8 columns]"
      ]
     },
     "execution_count": 28,
     "metadata": {},
     "output_type": "execute_result"
    }
   ],
   "source": [
    "clean_tweets"
   ]
  },
  {
   "cell_type": "code",
   "execution_count": null,
   "metadata": {},
   "outputs": [],
   "source": []
  },
  {
   "cell_type": "markdown",
   "metadata": {},
   "source": [
    "### bert-large-nli-mean-tokens"
   ]
  },
  {
   "cell_type": "code",
   "execution_count": null,
   "metadata": {},
   "outputs": [],
   "source": [
    "# model_sentence = SentenceTransformer('bert-large-nli-mean-tokens')"
   ]
  },
  {
   "cell_type": "code",
   "execution_count": null,
   "metadata": {},
   "outputs": [],
   "source": [
    "# if exists(\"Datasets/results/preprocessing/embeddings.pkl\"):\n",
    "#     with open('Datasets/results/preprocessing/embeddings.pkl', \"rb\") as file:\n",
    "#         embedding = pickle.load(file)\n",
    "# else:\n",
    "#     embeddings = model_sentence.encode(clean_tweets['cleaned'])\n",
    "    \n",
    "#     with open('Datasets/results/preprocessing/embeddings.pkl', \"wb\") as file:\n",
    "#         pickle.dump(embeddings, file, protocol=pickle.HIGHEST_PROTOCOL)\n",
    "\n",
    "#     with open('Datasets/results/preprocessing/embeddings_raw.pkl', \"wb\") as file:\n",
    "#         pickle.dump(clean_tweets['cleaned'], file, protocol=pickle.HIGHEST_PROTOCOL)"
   ]
  },
  {
   "attachments": {},
   "cell_type": "markdown",
   "metadata": {},
   "source": [
    "### MiniLM-L6-v2"
   ]
  },
  {
   "cell_type": "code",
   "execution_count": null,
   "metadata": {},
   "outputs": [],
   "source": [
    "model_sentence_2 = SentenceTransformer('sentence-transformers/all-MiniLM-L6-v2')"
   ]
  },
  {
   "cell_type": "code",
   "execution_count": null,
   "metadata": {},
   "outputs": [],
   "source": [
    "if exists(\"Datasets/results/preprocessing/embeddings_2.pkl\"):\n",
    "    with open('Datasets/results/preprocessing/embeddings_2.pkl', \"rb\") as file:\n",
    "        embeddings = pickle.load(file)\n",
    "else:\n",
    "    embeddings = model_sentence_2.encode(clean_tweets['cleaned'])\n",
    "    \n",
    "    with open('Datasets/results/preprocessing/embeddings_2.pkl', \"wb\") as file:\n",
    "        pickle.dump(embeddings, file, protocol=pickle.HIGHEST_PROTOCOL)\n",
    "\n",
    "    with open('Datasets/results/preprocessing/embeddings_raw.pkl', \"wb\") as file:\n",
    "        pickle.dump(clean_tweets['cleaned'], file, protocol=pickle.HIGHEST_PROTOCOL)"
   ]
  },
  {
   "attachments": {},
   "cell_type": "markdown",
   "metadata": {},
   "source": [
    "# Clustering"
   ]
  },
  {
   "cell_type": "code",
   "execution_count": null,
   "metadata": {},
   "outputs": [],
   "source": [
    "if exists(\"Datasets/results/preprocessing/appl_tweets.pkl\"):\n",
    "    tweets = pd.read_pickle(\"Datasets/results/preprocessing/appl_tweets.pkl\")\n",
    "    print(\"Downloaded\")\n",
    "else:\n",
    "    ids = tickers_df[tickers_df.ticker_symbol == 'AAPL'].tweet_id\n",
    "    tweets = clean_tweets[clean_tweets.tweet_id.isin(ids)]\n",
    "    tweets.to_pickle(\"Datasets/results/preprocessing/appl_tweets.pkl\")"
   ]
  },
  {
   "cell_type": "code",
   "execution_count": null,
   "metadata": {},
   "outputs": [],
   "source": [
    "if exists(\"Datasets/results/preprocessing/msft_tweets.pkl\"):\n",
    "    tweets = pd.read_pickle(\"Datasets/results/preprocessing/msft_tweets.pkl\")\n",
    "    print(\"Downloaded\")\n",
    "else:\n",
    "    ids = tickers_df[tickers_df.ticker_symbol == 'MSFT'].tweet_id\n",
    "    tweets = clean_tweets[clean_tweets.tweet_id.isin(ids)]\n",
    "    tweets.to_pickle(\"Datasets/results/preprocessing/msft_tweets.pkl\")"
   ]
  },
  {
   "cell_type": "code",
   "execution_count": null,
   "metadata": {},
   "outputs": [],
   "source": [
    "if exists(\"Datasets/results/preprocessing/tsla_tweets.pkl\"):\n",
    "    tweets = pd.read_pickle(\"Datasets/results/preprocessing/tsla_tweets.pkl\")\n",
    "    print(\"Downloaded\")\n",
    "else:\n",
    "    ids = tickers_df[tickers_df.ticker_symbol == 'TSLA'].tweet_id\n",
    "    tweets = clean_tweets[clean_tweets.tweet_id.isin(ids)]\n",
    "    tweets.to_pickle(\"Datasets/results/preprocessing/tsla_tweets.pkl\")"
   ]
  },
  {
   "cell_type": "code",
   "execution_count": null,
   "metadata": {},
   "outputs": [],
   "source": [
    "if exists(\"Datasets/results/preprocessing/amzn_tweets.pkl\"):\n",
    "    tweets = pd.read_pickle(\"Datasets/results/preprocessing/amzn_tweets.pkl\")\n",
    "    print(\"Downloaded\")\n",
    "else:\n",
    "    ids = tickers_df[tickers_df.ticker_symbol == 'AMZN'].tweet_id\n",
    "    tweets = clean_tweets[clean_tweets.tweet_id.isin(ids)]\n",
    "    tweets.to_pickle(\"Datasets/results/preprocessing/amzn_tweets.pkl\")"
   ]
  },
  {
   "cell_type": "code",
   "execution_count": null,
   "metadata": {},
   "outputs": [],
   "source": [
    "if exists(\"Datasets/results/preprocessing/google_tweets.pkl\"):\n",
    "    tweets = pd.read_pickle(\"Datasets/results/preprocessing/google_tweets.pkl\")\n",
    "    print(\"Downloaded\")\n",
    "else:\n",
    "    ids = tickers_df[(tickers_df.ticker_symbol == 'GOOG') | (tickers_df.ticker_symbol == 'GOOGL')].tweet_id\n",
    "    tweets = clean_tweets[clean_tweets.tweet_id.isin(ids)]\n",
    "    tweets.to_pickle(\"Datasets/results/preprocessing/google_tweets.pkl\")"
   ]
  },
  {
   "cell_type": "code",
   "execution_count": null,
   "metadata": {},
   "outputs": [],
   "source": [
    "len(tweets)"
   ]
  },
  {
   "cell_type": "code",
   "execution_count": null,
   "metadata": {},
   "outputs": [],
   "source": [
    "seed_topic_list = [\n",
    "    [\"buy\", \"sell\", \"long\", \"short\", \"trade\", \"chart\"],\n",
    "    [\"report\", \"quarter\", \"dividend\", \"annual\", \"revenue\"],\n",
    "    [\"read\", \"via\", \"article\"],\n",
    "    [\"management\", \"sale\", \"goal\"]\n",
    "    ]\n",
    "\n",
    "# hdbscan_model = HDBSCAN(min_cluster_size=900, metric='euclidean', cluster_selection_method='eom')\n",
    "# topic_model = BERTopic(hdbscan_model=hdbscan_model, language='English', verbose=True, seed_topic_list=seed_topic_list)\n",
    "\n",
    "# umap_model = UMAP(n_neighbors=4, n_components=5, metric='cosine', low_memory=False)\n",
    "umap_model = UMAP(n_neighbors=4, n_components=5, metric='cosine', low_memory=True)\n",
    "hdbscan_model = HDBSCAN(min_cluster_size=1000, metric='euclidean', prediction_data=False)\n",
    "\n",
    "topic_model = BERTopic(\n",
    "    umap_model=umap_model,\n",
    "    hdbscan_model=hdbscan_model,\n",
    "    seed_topic_list=seed_topic_list,\n",
    "    language=\"english\",\n",
    "    top_n_words=10,\n",
    "    # min_topic_size=500,\n",
    "    low_memory=True,\n",
    "    calculate_probabilities=False,\n",
    "    nr_topics=\"auto\",\n",
    "    verbose=True,\n",
    "    # n_gram_range=(1, 2)\n",
    "    )"
   ]
  },
  {
   "cell_type": "code",
   "execution_count": null,
   "metadata": {},
   "outputs": [],
   "source": [
    "with open('Datasets/results/preprocessing/embeddings_2.pkl', \"rb\") as file:\n",
    "    embeddings = pickle.load(file)\n",
    "\n",
    "with open('Datasets/results/preprocessing/embeddings_raw.pkl', \"rb\") as file:\n",
    "    embeddings_raw = pickle.load(file)"
   ]
  },
  {
   "cell_type": "code",
   "execution_count": null,
   "metadata": {},
   "outputs": [],
   "source": [
    "raw = embeddings_raw.iloc[tweets.index.tolist()].reset_index(drop=True)\n",
    "emb = embeddings[tweets.index.tolist()]"
   ]
  },
  {
   "cell_type": "code",
   "execution_count": null,
   "metadata": {},
   "outputs": [],
   "source": [
    "# topics, probs = topic_model.fit_transform(raw, emb)"
   ]
  },
  {
   "cell_type": "code",
   "execution_count": null,
   "metadata": {},
   "outputs": [],
   "source": [
    "topic_model_google = BERTopic.load(\"topics/google_model\")"
   ]
  },
  {
   "cell_type": "code",
   "execution_count": null,
   "metadata": {},
   "outputs": [],
   "source": [
    "topic_model_google.get_topic_info()"
   ]
  },
  {
   "cell_type": "code",
   "execution_count": null,
   "metadata": {},
   "outputs": [],
   "source": [
    "topic_model_google.visualize_topics()"
   ]
  },
  {
   "cell_type": "code",
   "execution_count": null,
   "metadata": {},
   "outputs": [],
   "source": [
    "topic_model_google.visualize_barchart()"
   ]
  },
  {
   "cell_type": "code",
   "execution_count": null,
   "metadata": {},
   "outputs": [],
   "source": [
    "topic_model_google.get_topic(0)"
   ]
  },
  {
   "cell_type": "code",
   "execution_count": null,
   "metadata": {},
   "outputs": [],
   "source": [
    "topic_model_google.get_representative_docs(0)"
   ]
  },
  {
   "cell_type": "code",
   "execution_count": null,
   "metadata": {},
   "outputs": [],
   "source": [
    "topic_model_google.visualize_hierarchy()"
   ]
  },
  {
   "cell_type": "code",
   "execution_count": null,
   "metadata": {},
   "outputs": [],
   "source": [
    "topic_model_google.get_topic(3)"
   ]
  },
  {
   "cell_type": "code",
   "execution_count": null,
   "metadata": {},
   "outputs": [],
   "source": [
    "topic_model_google.get_topic_info()"
   ]
  },
  {
   "cell_type": "code",
   "execution_count": null,
   "metadata": {},
   "outputs": [],
   "source": [
    "# topic_model_google.transform(raw[150:160], emb[150:160])"
   ]
  },
  {
   "cell_type": "code",
   "execution_count": null,
   "metadata": {},
   "outputs": [],
   "source": [
    "# topic_model.reduce_topics(embeddings_raw.iloc[tweets.index.tolist()].reset_index(drop=True), nr_topics=30)"
   ]
  },
  {
   "cell_type": "code",
   "execution_count": null,
   "metadata": {},
   "outputs": [],
   "source": [
    "# topic_model.visualize_hierarchy()\n"
   ]
  },
  {
   "cell_type": "code",
   "execution_count": null,
   "metadata": {},
   "outputs": [],
   "source": [
    "# topic_model.get_topic_info()"
   ]
  },
  {
   "cell_type": "code",
   "execution_count": null,
   "metadata": {},
   "outputs": [],
   "source": []
  }
 ],
 "metadata": {
  "kernelspec": {
   "display_name": "hse",
   "language": "python",
   "name": "python3"
  },
  "language_info": {
   "codemirror_mode": {
    "name": "ipython",
    "version": 3
   },
   "file_extension": ".py",
   "mimetype": "text/x-python",
   "name": "python",
   "nbconvert_exporter": "python",
   "pygments_lexer": "ipython3",
   "version": "3.10.8 (main, Nov 24 2022, 14:13:03) [GCC 11.2.0]"
  },
  "orig_nbformat": 4,
  "vscode": {
   "interpreter": {
    "hash": "02409fb671b1ed46b2b92a72e18ceb6708409a9b6d1d011f25cd31b784aeb6de"
   }
  }
 },
 "nbformat": 4,
 "nbformat_minor": 2
}
