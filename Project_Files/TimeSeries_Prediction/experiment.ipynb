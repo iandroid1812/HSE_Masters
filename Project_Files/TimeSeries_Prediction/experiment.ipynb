{
 "cells": [
  {
   "cell_type": "code",
   "execution_count": 1,
   "metadata": {},
   "outputs": [],
   "source": [
    "import yfinance as yf\n",
    "import pandas as pd\n",
    "from darts import TimeSeries\n",
    "import itertools\n",
    "import matplotlib.pyplot as plt\n",
    "from sklearn.preprocessing import StandardScaler\n",
    "\n",
    "from darts.dataprocessing.transformers import StaticCovariatesTransformer\n",
    "from darts.dataprocessing.transformers import Scaler\n",
    "from darts.models.forecasting.random_forest import RandomForest\n",
    "from darts.models import RNNModel, ExponentialSmoothing, BlockRNNModel, TFTModel, NBEATSModel, LinearRegressionModel, TransformerModel\n",
    "from darts.metrics import mape, mae, r2_score\n",
    "from darts.utils.statistics import check_seasonality, plot_acf\n",
    "from darts.datasets import AirPassengersDataset, SunspotsDataset\n",
    "from darts.utils.timeseries_generation import datetime_attribute_timeseries\n",
    "from darts.utils.likelihood_models import QuantileRegression\n",
    "from darts.utils.missing_values import fill_missing_values, missing_values_ratio\n",
    "from darts.utils.model_selection import train_test_split\n",
    "import darts.utils.statistics as darts_stats\n",
    "\n",
    "from pytorch_lightning.callbacks.early_stopping import EarlyStopping"
   ]
  },
  {
   "cell_type": "code",
   "execution_count": 2,
   "metadata": {},
   "outputs": [],
   "source": [
    "def load_data():\n",
    "    id_to_ticker_path = \"Datasets/kaggle/Company_Tweet.csv\"\n",
    "    ticker_to_name_path = \"Datasets/kaggle/Company.csv\"\n",
    "\n",
    "    tickers_df = pd.read_csv(id_to_ticker_path)\n",
    "    company_name_df = pd.read_csv(ticker_to_name_path)\n",
    "    tickers = company_name_df.ticker_symbol.tolist()\n",
    "\n",
    "    market_data = yf.download((' ').join(tickers), start=\"2015-01-01\", end=\"2020-01-01\", group_by = 'ticker')\n",
    "\n",
    "    # returns = pd.DataFrame()\n",
    "\n",
    "    # for ticker in market_data.columns.levels[0]:\n",
    "    #     returns[ticker] = market_data[ticker].Close.pct_change().dropna()\n",
    "\n",
    "    # for ticker in market_data.columns.levels[0]:\n",
    "    #     returns[ticker] = market_data[ticker].Close.shift(-1).dropna()\n",
    "\n",
    "    market_data = market_data.stack(level=0).rename_axis(['Date', 'Ticker']).reset_index(level=1)\n",
    "\n",
    "    market_data = market_data.dropna()\n",
    "    market_data = market_data.reset_index()\n",
    "\n",
    "    market_data.to_csv('Datasets/market/market.csv', index=False)\n",
    "\n",
    "    return market_data"
   ]
  },
  {
   "cell_type": "code",
   "execution_count": 3,
   "metadata": {},
   "outputs": [
    {
     "name": "stdout",
     "output_type": "stream",
     "text": [
      "[*********************100%***********************]  6 of 6 completed\n"
     ]
    },
    {
     "data": {
      "text/html": [
       "<div>\n",
       "<style scoped>\n",
       "    .dataframe tbody tr th:only-of-type {\n",
       "        vertical-align: middle;\n",
       "    }\n",
       "\n",
       "    .dataframe tbody tr th {\n",
       "        vertical-align: top;\n",
       "    }\n",
       "\n",
       "    .dataframe thead th {\n",
       "        text-align: right;\n",
       "    }\n",
       "</style>\n",
       "<table border=\"1\" class=\"dataframe\">\n",
       "  <thead>\n",
       "    <tr style=\"text-align: right;\">\n",
       "      <th></th>\n",
       "      <th>Date</th>\n",
       "      <th>Ticker</th>\n",
       "      <th>Adj Close</th>\n",
       "      <th>Close</th>\n",
       "      <th>High</th>\n",
       "      <th>Low</th>\n",
       "      <th>Open</th>\n",
       "      <th>Volume</th>\n",
       "    </tr>\n",
       "  </thead>\n",
       "  <tbody>\n",
       "    <tr>\n",
       "      <th>3</th>\n",
       "      <td>0</td>\n",
       "      <td>GOOGL</td>\n",
       "      <td>26.477501</td>\n",
       "      <td>26.477501</td>\n",
       "      <td>26.790001</td>\n",
       "      <td>26.393999</td>\n",
       "      <td>26.629999</td>\n",
       "      <td>26480000</td>\n",
       "    </tr>\n",
       "    <tr>\n",
       "      <th>9</th>\n",
       "      <td>1</td>\n",
       "      <td>GOOGL</td>\n",
       "      <td>25.973000</td>\n",
       "      <td>25.973000</td>\n",
       "      <td>26.399500</td>\n",
       "      <td>25.887501</td>\n",
       "      <td>26.357500</td>\n",
       "      <td>41182000</td>\n",
       "    </tr>\n",
       "    <tr>\n",
       "      <th>15</th>\n",
       "      <td>2</td>\n",
       "      <td>GOOGL</td>\n",
       "      <td>25.332001</td>\n",
       "      <td>25.332001</td>\n",
       "      <td>26.060499</td>\n",
       "      <td>25.277500</td>\n",
       "      <td>26.025000</td>\n",
       "      <td>54456000</td>\n",
       "    </tr>\n",
       "    <tr>\n",
       "      <th>21</th>\n",
       "      <td>3</td>\n",
       "      <td>GOOGL</td>\n",
       "      <td>25.257500</td>\n",
       "      <td>25.257500</td>\n",
       "      <td>25.574499</td>\n",
       "      <td>25.182501</td>\n",
       "      <td>25.547501</td>\n",
       "      <td>46918000</td>\n",
       "    </tr>\n",
       "    <tr>\n",
       "      <th>27</th>\n",
       "      <td>4</td>\n",
       "      <td>GOOGL</td>\n",
       "      <td>25.345501</td>\n",
       "      <td>25.345501</td>\n",
       "      <td>25.375000</td>\n",
       "      <td>24.750999</td>\n",
       "      <td>25.075500</td>\n",
       "      <td>73054000</td>\n",
       "    </tr>\n",
       "    <tr>\n",
       "      <th>...</th>\n",
       "      <td>...</td>\n",
       "      <td>...</td>\n",
       "      <td>...</td>\n",
       "      <td>...</td>\n",
       "      <td>...</td>\n",
       "      <td>...</td>\n",
       "      <td>...</td>\n",
       "      <td>...</td>\n",
       "    </tr>\n",
       "    <tr>\n",
       "      <th>7521</th>\n",
       "      <td>1253</td>\n",
       "      <td>GOOGL</td>\n",
       "      <td>67.221497</td>\n",
       "      <td>67.221497</td>\n",
       "      <td>67.600502</td>\n",
       "      <td>67.208504</td>\n",
       "      <td>67.510498</td>\n",
       "      <td>13468000</td>\n",
       "    </tr>\n",
       "    <tr>\n",
       "      <th>7527</th>\n",
       "      <td>1254</td>\n",
       "      <td>GOOGL</td>\n",
       "      <td>68.123497</td>\n",
       "      <td>68.123497</td>\n",
       "      <td>68.160004</td>\n",
       "      <td>67.275497</td>\n",
       "      <td>67.327499</td>\n",
       "      <td>23662000</td>\n",
       "    </tr>\n",
       "    <tr>\n",
       "      <th>7533</th>\n",
       "      <td>1255</td>\n",
       "      <td>GOOGL</td>\n",
       "      <td>67.732002</td>\n",
       "      <td>67.732002</td>\n",
       "      <td>68.352501</td>\n",
       "      <td>67.650002</td>\n",
       "      <td>68.199997</td>\n",
       "      <td>23212000</td>\n",
       "    </tr>\n",
       "    <tr>\n",
       "      <th>7539</th>\n",
       "      <td>1256</td>\n",
       "      <td>GOOGL</td>\n",
       "      <td>66.985497</td>\n",
       "      <td>66.985497</td>\n",
       "      <td>67.849998</td>\n",
       "      <td>66.891998</td>\n",
       "      <td>67.840500</td>\n",
       "      <td>19994000</td>\n",
       "    </tr>\n",
       "    <tr>\n",
       "      <th>7545</th>\n",
       "      <td>1257</td>\n",
       "      <td>GOOGL</td>\n",
       "      <td>66.969498</td>\n",
       "      <td>66.969498</td>\n",
       "      <td>67.032997</td>\n",
       "      <td>66.606499</td>\n",
       "      <td>66.789497</td>\n",
       "      <td>19514000</td>\n",
       "    </tr>\n",
       "  </tbody>\n",
       "</table>\n",
       "<p>1258 rows × 8 columns</p>\n",
       "</div>"
      ],
      "text/plain": [
       "      Date Ticker  Adj Close      Close       High        Low       Open  \\\n",
       "3        0  GOOGL  26.477501  26.477501  26.790001  26.393999  26.629999   \n",
       "9        1  GOOGL  25.973000  25.973000  26.399500  25.887501  26.357500   \n",
       "15       2  GOOGL  25.332001  25.332001  26.060499  25.277500  26.025000   \n",
       "21       3  GOOGL  25.257500  25.257500  25.574499  25.182501  25.547501   \n",
       "27       4  GOOGL  25.345501  25.345501  25.375000  24.750999  25.075500   \n",
       "...    ...    ...        ...        ...        ...        ...        ...   \n",
       "7521  1253  GOOGL  67.221497  67.221497  67.600502  67.208504  67.510498   \n",
       "7527  1254  GOOGL  68.123497  68.123497  68.160004  67.275497  67.327499   \n",
       "7533  1255  GOOGL  67.732002  67.732002  68.352501  67.650002  68.199997   \n",
       "7539  1256  GOOGL  66.985497  66.985497  67.849998  66.891998  67.840500   \n",
       "7545  1257  GOOGL  66.969498  66.969498  67.032997  66.606499  66.789497   \n",
       "\n",
       "        Volume  \n",
       "3     26480000  \n",
       "9     41182000  \n",
       "15    54456000  \n",
       "21    46918000  \n",
       "27    73054000  \n",
       "...        ...  \n",
       "7521  13468000  \n",
       "7527  23662000  \n",
       "7533  23212000  \n",
       "7539  19994000  \n",
       "7545  19514000  \n",
       "\n",
       "[1258 rows x 8 columns]"
      ]
     },
     "execution_count": 3,
     "metadata": {},
     "output_type": "execute_result"
    }
   ],
   "source": [
    "data = load_data()\n",
    "\n",
    "for i, j in itertools.product(range(0, len(data), data.nunique().Ticker), range(6)):\n",
    "    data.loc[i+j, 'Date'] = i and int(i / 6) or 0\n",
    "\n",
    "data.Date = data.Date.astype('int')\n",
    "\n",
    "data = data[data.Ticker == 'GOOGL']\n",
    "\n",
    "data"
   ]
  },
  {
   "cell_type": "code",
   "execution_count": 4,
   "metadata": {},
   "outputs": [
    {
     "data": {
      "text/plain": [
       "<AxesSubplot: >"
      ]
     },
     "execution_count": 4,
     "metadata": {},
     "output_type": "execute_result"
    },
    {
     "data": {
      "image/png": "[encoded data removed]",
      "text/plain": [
       "<Figure size 640x480 with 1 Axes>"
      ]
     },
     "metadata": {},
     "output_type": "display_data"
    }
   ],
   "source": [
    "data.Close.plot()"
   ]
  },
  {
   "cell_type": "code",
   "execution_count": 5,
   "metadata": {},
   "outputs": [],
   "source": [
    "data = TimeSeries.from_dataframe(\n",
    "    data, time_col='Date', \n",
    "    value_cols=['Adj Close', 'Close', 'High', 'Low', 'Open','Volume'],\n",
    "    fill_missing_dates=True,\n",
    "    freq='D',\n",
    "    static_covariates=None\n",
    "    )"
   ]
  },
  {
   "cell_type": "code",
   "execution_count": 6,
   "metadata": {},
   "outputs": [
    {
     "data": {
      "text/plain": [
       "0.0"
      ]
     },
     "execution_count": 6,
     "metadata": {},
     "output_type": "execute_result"
    }
   ],
   "source": [
    "missing_values_ratio(data)"
   ]
  },
  {
   "cell_type": "code",
   "execution_count": 7,
   "metadata": {},
   "outputs": [],
   "source": [
    "train, val = train_test_split(\n",
    "    data,\n",
    "    vertical_split_type='model-aware',\n",
    "    test_size=0.15,\n",
    "    input_size=10,\n",
    "    horizon=5\n",
    "    )"
   ]
  },
  {
   "cell_type": "code",
   "execution_count": null,
   "metadata": {},
   "outputs": [],
   "source": [
    "darts_stats.check_seasonality(train['Volume'])"
   ]
  },
  {
   "cell_type": "code",
   "execution_count": null,
   "metadata": {},
   "outputs": [],
   "source": [
    "darts_stats.plot_residuals_analysis(train['Volume'])"
   ]
  },
  {
   "cell_type": "code",
   "execution_count": 8,
   "metadata": {},
   "outputs": [
    {
     "data": {
      "image/png": "[encoded data removed]",
      "text/plain": [
       "<Figure size 640x480 with 1 Axes>"
      ]
     },
     "metadata": {},
     "output_type": "display_data"
    }
   ],
   "source": [
    "train['Volume'].plot()"
   ]
  },
  {
   "cell_type": "code",
   "execution_count": 9,
   "metadata": {},
   "outputs": [],
   "source": [
    "scaler = Scaler(StandardScaler())"
   ]
  },
  {
   "cell_type": "code",
   "execution_count": 10,
   "metadata": {},
   "outputs": [],
   "source": [
    "target = 'Close'\n",
    "\n",
    "train_scaled = scaler.fit_transform(train)\n",
    "train_cov = train_scaled[['Adj Close', 'High', 'Low', 'Open']]\n",
    "\n",
    "val_scaled = scaler.transform(val)\n",
    "val_cov = val_scaled[['Adj Close', 'High', 'Low', 'Open']]\n",
    "\n",
    "series = scaler.transform(data)\n",
    "series_cov = series[['Adj Close', 'High', 'Low', 'Open']]"
   ]
  },
  {
   "cell_type": "code",
   "execution_count": null,
   "metadata": {},
   "outputs": [],
   "source": [
    "def plot_backtest(model, start=900, horizon=3, stride=1, train_length=20):\n",
    "    backtest_series = model.historical_forecasts(\n",
    "    series=series['Close'],\n",
    "    past_covariates=series_cov,\n",
    "    start=start,\n",
    "    forecast_horizon=horizon,\n",
    "    retrain=False,\n",
    "    verbose=False,\n",
    "    stride=stride,\n",
    "    train_length=train_length\n",
    "    )\n",
    "\n",
    "    plt.figure(figsize=(8, 5))\n",
    "    (series)['Close'][start:].plot(label=\"actual\")\n",
    "    (backtest_series)['Close'].plot(label=\"backtest\")\n",
    "    # scaler.inverse_transform(series)['Close'].shift(horizon)[start:].plot(label=\"shifted\")\n",
    "    plt.legend()\n",
    "    mape_loss = mape((series['Close']), (backtest_series))\n",
    "    plt.title(f\"Backtest, starting day {start} with horizon {horizon} - mape {mape_loss:.2f} %\")"
   ]
  },
  {
   "cell_type": "markdown",
   "metadata": {},
   "source": [
    "## RNN"
   ]
  },
  {
   "cell_type": "code",
   "execution_count": 11,
   "metadata": {},
   "outputs": [
    {
     "name": "stderr",
     "output_type": "stream",
     "text": [
      "GPU available: True, used: True\n",
      "TPU available: False, using: 0 TPU cores\n",
      "IPU available: False, using: 0 IPUs\n",
      "HPU available: False, using: 0 HPUs\n",
      "LOCAL_RANK: 0 - CUDA_VISIBLE_DEVICES: [0]\n",
      "\n",
      "  | Name          | Type             | Params\n",
      "---------------------------------------------------\n",
      "0 | criterion     | MSELoss          | 0     \n",
      "1 | train_metrics | MetricCollection | 0     \n",
      "2 | val_metrics   | MetricCollection | 0     \n",
      "3 | rnn           | LSTM             | 3.2 K \n",
      "4 | fc            | Sequential       | 130   \n",
      "---------------------------------------------------\n",
      "3.3 K     Trainable params\n",
      "0         Non-trainable params\n",
      "3.3 K     Total params\n",
      "0.027     Total estimated model params size (MB)\n"
     ]
    },
    {
     "data": {
      "application/vnd.jupyter.widget-view+json": {
       "model_id": "9a97fc659c204b338e7904752e0d44e2",
       "version_major": 2,
       "version_minor": 0
      },
      "text/plain": [
       "Sanity Checking: 0it [00:00, ?it/s]"
      ]
     },
     "metadata": {},
     "output_type": "display_data"
    },
    {
     "data": {
      "application/vnd.jupyter.widget-view+json": {
       "model_id": "cf5c6cb505d44881a953cfb4ed3a0efd",
       "version_major": 2,
       "version_minor": 0
      },
      "text/plain": [
       "Training: 0it [00:00, ?it/s]"
      ]
     },
     "metadata": {},
     "output_type": "display_data"
    },
    {
     "data": {
      "application/vnd.jupyter.widget-view+json": {
       "model_id": "bb569cb655094dcf982d1e1936268660",
       "version_major": 2,
       "version_minor": 0
      },
      "text/plain": [
       "Validation: 0it [00:00, ?it/s]"
      ]
     },
     "metadata": {},
     "output_type": "display_data"
    },
    {
     "data": {
      "application/vnd.jupyter.widget-view+json": {
       "model_id": "815978933c3f4b5f94c3c65ea751437b",
       "version_major": 2,
       "version_minor": 0
      },
      "text/plain": [
       "Validation: 0it [00:00, ?it/s]"
      ]
     },
     "metadata": {},
     "output_type": "display_data"
    },
    {
     "data": {
      "application/vnd.jupyter.widget-view+json": {
       "model_id": "fea8825f10ed4ebfaed33d1b0f4aeafc",
       "version_major": 2,
       "version_minor": 0
      },
      "text/plain": [
       "Validation: 0it [00:00, ?it/s]"
      ]
     },
     "metadata": {},
     "output_type": "display_data"
    },
    {
     "data": {
      "application/vnd.jupyter.widget-view+json": {
       "model_id": "d5c172e1de684e2a8ea53d216d4829ef",
       "version_major": 2,
       "version_minor": 0
      },
      "text/plain": [
       "Validation: 0it [00:00, ?it/s]"
      ]
     },
     "metadata": {},
     "output_type": "display_data"
    },
    {
     "data": {
      "application/vnd.jupyter.widget-view+json": {
       "model_id": "278029afeff64795b11c4a0a1bc707bd",
       "version_major": 2,
       "version_minor": 0
      },
      "text/plain": [
       "Validation: 0it [00:00, ?it/s]"
      ]
     },
     "metadata": {},
     "output_type": "display_data"
    },
    {
     "data": {
      "application/vnd.jupyter.widget-view+json": {
       "model_id": "16b51726a3d44ebb82be77bdf74c60f1",
       "version_major": 2,
       "version_minor": 0
      },
      "text/plain": [
       "Validation: 0it [00:00, ?it/s]"
      ]
     },
     "metadata": {},
     "output_type": "display_data"
    },
    {
     "data": {
      "application/vnd.jupyter.widget-view+json": {
       "model_id": "a014497718f5402ea9ba7fbe43e404aa",
       "version_major": 2,
       "version_minor": 0
      },
      "text/plain": [
       "Validation: 0it [00:00, ?it/s]"
      ]
     },
     "metadata": {},
     "output_type": "display_data"
    },
    {
     "data": {
      "application/vnd.jupyter.widget-view+json": {
       "model_id": "7e40fa1239ea4846b5ce708e12465231",
       "version_major": 2,
       "version_minor": 0
      },
      "text/plain": [
       "Validation: 0it [00:00, ?it/s]"
      ]
     },
     "metadata": {},
     "output_type": "display_data"
    },
    {
     "data": {
      "application/vnd.jupyter.widget-view+json": {
       "model_id": "19abac7950ec4e3ba2bd57d4d4a4a9f9",
       "version_major": 2,
       "version_minor": 0
      },
      "text/plain": [
       "Validation: 0it [00:00, ?it/s]"
      ]
     },
     "metadata": {},
     "output_type": "display_data"
    },
    {
     "data": {
      "application/vnd.jupyter.widget-view+json": {
       "model_id": "d475179cf5d94f689cb093550bcd4bbe",
       "version_major": 2,
       "version_minor": 0
      },
      "text/plain": [
       "Validation: 0it [00:00, ?it/s]"
      ]
     },
     "metadata": {},
     "output_type": "display_data"
    },
    {
     "data": {
      "application/vnd.jupyter.widget-view+json": {
       "model_id": "2b6951a2fe394eb69710077d2f4a7b0c",
       "version_major": 2,
       "version_minor": 0
      },
      "text/plain": [
       "Validation: 0it [00:00, ?it/s]"
      ]
     },
     "metadata": {},
     "output_type": "display_data"
    },
    {
     "data": {
      "application/vnd.jupyter.widget-view+json": {
       "model_id": "e4793a009e8b40928746282ee83bd8f3",
       "version_major": 2,
       "version_minor": 0
      },
      "text/plain": [
       "Validation: 0it [00:00, ?it/s]"
      ]
     },
     "metadata": {},
     "output_type": "display_data"
    },
    {
     "data": {
      "application/vnd.jupyter.widget-view+json": {
       "model_id": "0c9959e187ec42b7bbf32e3131dfe799",
       "version_major": 2,
       "version_minor": 0
      },
      "text/plain": [
       "Validation: 0it [00:00, ?it/s]"
      ]
     },
     "metadata": {},
     "output_type": "display_data"
    },
    {
     "data": {
      "application/vnd.jupyter.widget-view+json": {
       "model_id": "75be8a81e17e4713a5908bdb293437fe",
       "version_major": 2,
       "version_minor": 0
      },
      "text/plain": [
       "Validation: 0it [00:00, ?it/s]"
      ]
     },
     "metadata": {},
     "output_type": "display_data"
    },
    {
     "data": {
      "application/vnd.jupyter.widget-view+json": {
       "model_id": "b24a21b4e71246f08016610e61f6ad71",
       "version_major": 2,
       "version_minor": 0
      },
      "text/plain": [
       "Validation: 0it [00:00, ?it/s]"
      ]
     },
     "metadata": {},
     "output_type": "display_data"
    },
    {
     "data": {
      "application/vnd.jupyter.widget-view+json": {
       "model_id": "489fd9a60e594e5f9966bae1dbd32290",
       "version_major": 2,
       "version_minor": 0
      },
      "text/plain": [
       "Validation: 0it [00:00, ?it/s]"
      ]
     },
     "metadata": {},
     "output_type": "display_data"
    },
    {
     "data": {
      "application/vnd.jupyter.widget-view+json": {
       "model_id": "2cefaed245524061979b6cb2b90bc435",
       "version_major": 2,
       "version_minor": 0
      },
      "text/plain": [
       "Validation: 0it [00:00, ?it/s]"
      ]
     },
     "metadata": {},
     "output_type": "display_data"
    },
    {
     "data": {
      "application/vnd.jupyter.widget-view+json": {
       "model_id": "1618cc42e3f14906b917e4a0fd429aa3",
       "version_major": 2,
       "version_minor": 0
      },
      "text/plain": [
       "Validation: 0it [00:00, ?it/s]"
      ]
     },
     "metadata": {},
     "output_type": "display_data"
    },
    {
     "data": {
      "application/vnd.jupyter.widget-view+json": {
       "model_id": "0d6aa8e71bee4b5b8431252916bc9d07",
       "version_major": 2,
       "version_minor": 0
      },
      "text/plain": [
       "Validation: 0it [00:00, ?it/s]"
      ]
     },
     "metadata": {},
     "output_type": "display_data"
    },
    {
     "data": {
      "application/vnd.jupyter.widget-view+json": {
       "model_id": "b10f8a12ea9e466eb53b76b11a2007b3",
       "version_major": 2,
       "version_minor": 0
      },
      "text/plain": [
       "Validation: 0it [00:00, ?it/s]"
      ]
     },
     "metadata": {},
     "output_type": "display_data"
    },
    {
     "data": {
      "application/vnd.jupyter.widget-view+json": {
       "model_id": "0796809e841c447580a4f93a249b5894",
       "version_major": 2,
       "version_minor": 0
      },
      "text/plain": [
       "Validation: 0it [00:00, ?it/s]"
      ]
     },
     "metadata": {},
     "output_type": "display_data"
    },
    {
     "data": {
      "application/vnd.jupyter.widget-view+json": {
       "model_id": "4aa5050f598a4f6e8e927f055a897620",
       "version_major": 2,
       "version_minor": 0
      },
      "text/plain": [
       "Validation: 0it [00:00, ?it/s]"
      ]
     },
     "metadata": {},
     "output_type": "display_data"
    },
    {
     "data": {
      "application/vnd.jupyter.widget-view+json": {
       "model_id": "7f074d6f4e5a4464a223fb63c2b6271e",
       "version_major": 2,
       "version_minor": 0
      },
      "text/plain": [
       "Validation: 0it [00:00, ?it/s]"
      ]
     },
     "metadata": {},
     "output_type": "display_data"
    },
    {
     "data": {
      "application/vnd.jupyter.widget-view+json": {
       "model_id": "ec26a73b285945f98cb23550fc19aa25",
       "version_major": 2,
       "version_minor": 0
      },
      "text/plain": [
       "Validation: 0it [00:00, ?it/s]"
      ]
     },
     "metadata": {},
     "output_type": "display_data"
    },
    {
     "data": {
      "application/vnd.jupyter.widget-view+json": {
       "model_id": "c19f6cd6624b486085f45fb32a8048de",
       "version_major": 2,
       "version_minor": 0
      },
      "text/plain": [
       "Validation: 0it [00:00, ?it/s]"
      ]
     },
     "metadata": {},
     "output_type": "display_data"
    },
    {
     "data": {
      "application/vnd.jupyter.widget-view+json": {
       "model_id": "c76b1c9d2626430fa81d4bbb42fb0bef",
       "version_major": 2,
       "version_minor": 0
      },
      "text/plain": [
       "Validation: 0it [00:00, ?it/s]"
      ]
     },
     "metadata": {},
     "output_type": "display_data"
    },
    {
     "data": {
      "application/vnd.jupyter.widget-view+json": {
       "model_id": "a593a657085c4336a542d5c2a3537aac",
       "version_major": 2,
       "version_minor": 0
      },
      "text/plain": [
       "Validation: 0it [00:00, ?it/s]"
      ]
     },
     "metadata": {},
     "output_type": "display_data"
    },
    {
     "data": {
      "application/vnd.jupyter.widget-view+json": {
       "model_id": "24985e54647e49b3be4a0b2faabb0a9e",
       "version_major": 2,
       "version_minor": 0
      },
      "text/plain": [
       "Validation: 0it [00:00, ?it/s]"
      ]
     },
     "metadata": {},
     "output_type": "display_data"
    },
    {
     "data": {
      "application/vnd.jupyter.widget-view+json": {
       "model_id": "f37220acdfe74af0b5c33e9b7ac2d9f4",
       "version_major": 2,
       "version_minor": 0
      },
      "text/plain": [
       "Validation: 0it [00:00, ?it/s]"
      ]
     },
     "metadata": {},
     "output_type": "display_data"
    },
    {
     "data": {
      "application/vnd.jupyter.widget-view+json": {
       "model_id": "c45040f18baa4aab9c92d1de4a2070cb",
       "version_major": 2,
       "version_minor": 0
      },
      "text/plain": [
       "Validation: 0it [00:00, ?it/s]"
      ]
     },
     "metadata": {},
     "output_type": "display_data"
    },
    {
     "data": {
      "application/vnd.jupyter.widget-view+json": {
       "model_id": "5d8b7ee8e0b944ba8978ec8dab0e43e1",
       "version_major": 2,
       "version_minor": 0
      },
      "text/plain": [
       "Validation: 0it [00:00, ?it/s]"
      ]
     },
     "metadata": {},
     "output_type": "display_data"
    },
    {
     "data": {
      "application/vnd.jupyter.widget-view+json": {
       "model_id": "e02246c8c0884b79bc956ff95aaca967",
       "version_major": 2,
       "version_minor": 0
      },
      "text/plain": [
       "Validation: 0it [00:00, ?it/s]"
      ]
     },
     "metadata": {},
     "output_type": "display_data"
    },
    {
     "data": {
      "application/vnd.jupyter.widget-view+json": {
       "model_id": "266ce6843cac4819a9344ededfce5b20",
       "version_major": 2,
       "version_minor": 0
      },
      "text/plain": [
       "Validation: 0it [00:00, ?it/s]"
      ]
     },
     "metadata": {},
     "output_type": "display_data"
    },
    {
     "data": {
      "application/vnd.jupyter.widget-view+json": {
       "model_id": "060a017f21354ab89acd390679b9dd7e",
       "version_major": 2,
       "version_minor": 0
      },
      "text/plain": [
       "Validation: 0it [00:00, ?it/s]"
      ]
     },
     "metadata": {},
     "output_type": "display_data"
    },
    {
     "data": {
      "application/vnd.jupyter.widget-view+json": {
       "model_id": "1ca48a77e7a44903b3573e29ded70bf7",
       "version_major": 2,
       "version_minor": 0
      },
      "text/plain": [
       "Validation: 0it [00:00, ?it/s]"
      ]
     },
     "metadata": {},
     "output_type": "display_data"
    },
    {
     "data": {
      "application/vnd.jupyter.widget-view+json": {
       "model_id": "eed31e4b93bc4fb7adc56c388c00d523",
       "version_major": 2,
       "version_minor": 0
      },
      "text/plain": [
       "Validation: 0it [00:00, ?it/s]"
      ]
     },
     "metadata": {},
     "output_type": "display_data"
    },
    {
     "data": {
      "text/plain": [
       "<darts.models.forecasting.block_rnn_model.BlockRNNModel at 0x2486a533c70>"
      ]
     },
     "execution_count": 11,
     "metadata": {},
     "output_type": "execute_result"
    }
   ],
   "source": [
    "my_stopper = EarlyStopping(\n",
    "    monitor=\"val_loss\",\n",
    "    patience=5,\n",
    "    min_delta=1e-4,\n",
    "    mode='min',\n",
    ")\n",
    "\n",
    "model = BlockRNNModel(\n",
    "    input_chunk_length=20,\n",
    "    output_chunk_length=5,\n",
    "    model='LSTM',\n",
    "    n_epochs=100,\n",
    "    pl_trainer_kwargs={\n",
    "      \"accelerator\": \"gpu\",\n",
    "      \"devices\": -1,\n",
    "      \"callbacks\": [my_stopper],\n",
    "      \"enable_progress_bar\": True\n",
    "    }\n",
    ")\n",
    "\n",
    "model.fit(\n",
    "    series=train_scaled[target],\n",
    "    past_covariates=train_cov,\n",
    "    val_series=val_scaled[target],\n",
    "    val_past_covariates=val_cov\n",
    ")"
   ]
  },
  {
   "cell_type": "code",
   "execution_count": 12,
   "metadata": {},
   "outputs": [
    {
     "name": "stderr",
     "output_type": "stream",
     "text": [
      "LOCAL_RANK: 0 - CUDA_VISIBLE_DEVICES: [0]\n"
     ]
    },
    {
     "data": {
      "application/vnd.jupyter.widget-view+json": {
       "model_id": "2ad33b80ead54dde86e810cd70c1c2d0",
       "version_major": 2,
       "version_minor": 0
      },
      "text/plain": [
       "Predicting: 33it [00:00, ?it/s]"
      ]
     },
     "metadata": {},
     "output_type": "display_data"
    },
    {
     "name": "stderr",
     "output_type": "stream",
     "text": [
      "LOCAL_RANK: 0 - CUDA_VISIBLE_DEVICES: [0]\n"
     ]
    },
    {
     "data": {
      "application/vnd.jupyter.widget-view+json": {
       "model_id": "4b15482153594ce49be2f1212b17de28",
       "version_major": 2,
       "version_minor": 0
      },
      "text/plain": [
       "Predicting: 33it [00:00, ?it/s]"
      ]
     },
     "metadata": {},
     "output_type": "display_data"
    },
    {
     "name": "stderr",
     "output_type": "stream",
     "text": [
      "LOCAL_RANK: 0 - CUDA_VISIBLE_DEVICES: [0]\n"
     ]
    },
    {
     "data": {
      "application/vnd.jupyter.widget-view+json": {
       "model_id": "3301355f58634f21b735633d4ceb070d",
       "version_major": 2,
       "version_minor": 0
      },
      "text/plain": [
       "Predicting: 33it [00:00, ?it/s]"
      ]
     },
     "metadata": {},
     "output_type": "display_data"
    },
    {
     "name": "stderr",
     "output_type": "stream",
     "text": [
      "LOCAL_RANK: 0 - CUDA_VISIBLE_DEVICES: [0]\n"
     ]
    },
    {
     "data": {
      "application/vnd.jupyter.widget-view+json": {
       "model_id": "fe96d11031a84189b56acba0ce0f72be",
       "version_major": 2,
       "version_minor": 0
      },
      "text/plain": [
       "Predicting: 33it [00:00, ?it/s]"
      ]
     },
     "metadata": {},
     "output_type": "display_data"
    },
    {
     "name": "stderr",
     "output_type": "stream",
     "text": [
      "LOCAL_RANK: 0 - CUDA_VISIBLE_DEVICES: [0]\n"
     ]
    },
    {
     "data": {
      "application/vnd.jupyter.widget-view+json": {
       "model_id": "262cd70c133249c7879a88249f10f8b1",
       "version_major": 2,
       "version_minor": 0
      },
      "text/plain": [
       "Predicting: 33it [00:00, ?it/s]"
      ]
     },
     "metadata": {},
     "output_type": "display_data"
    },
    {
     "name": "stderr",
     "output_type": "stream",
     "text": [
      "LOCAL_RANK: 0 - CUDA_VISIBLE_DEVICES: [0]\n"
     ]
    },
    {
     "data": {
      "application/vnd.jupyter.widget-view+json": {
       "model_id": "ce84e0f674d64ffe829d544083f27ef9",
       "version_major": 2,
       "version_minor": 0
      },
      "text/plain": [
       "Predicting: 33it [00:00, ?it/s]"
      ]
     },
     "metadata": {},
     "output_type": "display_data"
    },
    {
     "name": "stderr",
     "output_type": "stream",
     "text": [
      "LOCAL_RANK: 0 - CUDA_VISIBLE_DEVICES: [0]\n"
     ]
    },
    {
     "data": {
      "application/vnd.jupyter.widget-view+json": {
       "model_id": "1d4dbd52586a437bba96b3b0ab7dbb21",
       "version_major": 2,
       "version_minor": 0
      },
      "text/plain": [
       "Predicting: 33it [00:00, ?it/s]"
      ]
     },
     "metadata": {},
     "output_type": "display_data"
    },
    {
     "name": "stderr",
     "output_type": "stream",
     "text": [
      "LOCAL_RANK: 0 - CUDA_VISIBLE_DEVICES: [0]\n"
     ]
    },
    {
     "data": {
      "application/vnd.jupyter.widget-view+json": {
       "model_id": "1045fe1f40a94085a1cf3e0de571a556",
       "version_major": 2,
       "version_minor": 0
      },
      "text/plain": [
       "Predicting: 33it [00:00, ?it/s]"
      ]
     },
     "metadata": {},
     "output_type": "display_data"
    },
    {
     "name": "stderr",
     "output_type": "stream",
     "text": [
      "LOCAL_RANK: 0 - CUDA_VISIBLE_DEVICES: [0]\n"
     ]
    },
    {
     "data": {
      "application/vnd.jupyter.widget-view+json": {
       "model_id": "074271369dfd4db7a358a74f77359232",
       "version_major": 2,
       "version_minor": 0
      },
      "text/plain": [
       "Predicting: 33it [00:00, ?it/s]"
      ]
     },
     "metadata": {},
     "output_type": "display_data"
    },
    {
     "name": "stderr",
     "output_type": "stream",
     "text": [
      "LOCAL_RANK: 0 - CUDA_VISIBLE_DEVICES: [0]\n"
     ]
    },
    {
     "data": {
      "application/vnd.jupyter.widget-view+json": {
       "model_id": "304052e82afd4c5ba3bdd66519220d1b",
       "version_major": 2,
       "version_minor": 0
      },
      "text/plain": [
       "Predicting: 33it [00:00, ?it/s]"
      ]
     },
     "metadata": {},
     "output_type": "display_data"
    },
    {
     "name": "stderr",
     "output_type": "stream",
     "text": [
      "LOCAL_RANK: 0 - CUDA_VISIBLE_DEVICES: [0]\n"
     ]
    },
    {
     "data": {
      "application/vnd.jupyter.widget-view+json": {
       "model_id": "42211b8d4a264af1ab59c3f41ce59aad",
       "version_major": 2,
       "version_minor": 0
      },
      "text/plain": [
       "Predicting: 33it [00:00, ?it/s]"
      ]
     },
     "metadata": {},
     "output_type": "display_data"
    },
    {
     "name": "stderr",
     "output_type": "stream",
     "text": [
      "LOCAL_RANK: 0 - CUDA_VISIBLE_DEVICES: [0]\n"
     ]
    },
    {
     "data": {
      "application/vnd.jupyter.widget-view+json": {
       "model_id": "b94a0c4a3ead4bad813f2592eb58b257",
       "version_major": 2,
       "version_minor": 0
      },
      "text/plain": [
       "Predicting: 33it [00:00, ?it/s]"
      ]
     },
     "metadata": {},
     "output_type": "display_data"
    },
    {
     "name": "stderr",
     "output_type": "stream",
     "text": [
      "LOCAL_RANK: 0 - CUDA_VISIBLE_DEVICES: [0]\n"
     ]
    },
    {
     "data": {
      "application/vnd.jupyter.widget-view+json": {
       "model_id": "fe815896fb0a4f909ad070101d63cc6f",
       "version_major": 2,
       "version_minor": 0
      },
      "text/plain": [
       "Predicting: 33it [00:00, ?it/s]"
      ]
     },
     "metadata": {},
     "output_type": "display_data"
    },
    {
     "name": "stderr",
     "output_type": "stream",
     "text": [
      "LOCAL_RANK: 0 - CUDA_VISIBLE_DEVICES: [0]\n"
     ]
    },
    {
     "data": {
      "application/vnd.jupyter.widget-view+json": {
       "model_id": "27104fdfb2bf49898f496fc593540368",
       "version_major": 2,
       "version_minor": 0
      },
      "text/plain": [
       "Predicting: 33it [00:00, ?it/s]"
      ]
     },
     "metadata": {},
     "output_type": "display_data"
    },
    {
     "name": "stderr",
     "output_type": "stream",
     "text": [
      "LOCAL_RANK: 0 - CUDA_VISIBLE_DEVICES: [0]\n"
     ]
    },
    {
     "data": {
      "application/vnd.jupyter.widget-view+json": {
       "model_id": "d97c329474e3432baf614c43dfe2617a",
       "version_major": 2,
       "version_minor": 0
      },
      "text/plain": [
       "Predicting: 33it [00:00, ?it/s]"
      ]
     },
     "metadata": {},
     "output_type": "display_data"
    },
    {
     "name": "stderr",
     "output_type": "stream",
     "text": [
      "LOCAL_RANK: 0 - CUDA_VISIBLE_DEVICES: [0]\n"
     ]
    },
    {
     "data": {
      "application/vnd.jupyter.widget-view+json": {
       "model_id": "e82bf324fc2f457caec561f56ba631d0",
       "version_major": 2,
       "version_minor": 0
      },
      "text/plain": [
       "Predicting: 33it [00:00, ?it/s]"
      ]
     },
     "metadata": {},
     "output_type": "display_data"
    },
    {
     "name": "stderr",
     "output_type": "stream",
     "text": [
      "LOCAL_RANK: 0 - CUDA_VISIBLE_DEVICES: [0]\n"
     ]
    },
    {
     "data": {
      "application/vnd.jupyter.widget-view+json": {
       "model_id": "eba0ebac798c4cc09fd6a22dca0ef491",
       "version_major": 2,
       "version_minor": 0
      },
      "text/plain": [
       "Predicting: 33it [00:00, ?it/s]"
      ]
     },
     "metadata": {},
     "output_type": "display_data"
    },
    {
     "name": "stderr",
     "output_type": "stream",
     "text": [
      "LOCAL_RANK: 0 - CUDA_VISIBLE_DEVICES: [0]\n"
     ]
    },
    {
     "data": {
      "application/vnd.jupyter.widget-view+json": {
       "model_id": "b5400c9c1f114f5782eac3f7d0406359",
       "version_major": 2,
       "version_minor": 0
      },
      "text/plain": [
       "Predicting: 33it [00:00, ?it/s]"
      ]
     },
     "metadata": {},
     "output_type": "display_data"
    },
    {
     "name": "stderr",
     "output_type": "stream",
     "text": [
      "LOCAL_RANK: 0 - CUDA_VISIBLE_DEVICES: [0]\n"
     ]
    },
    {
     "data": {
      "application/vnd.jupyter.widget-view+json": {
       "model_id": "665b1745d08440cc9701ab2d16942c46",
       "version_major": 2,
       "version_minor": 0
      },
      "text/plain": [
       "Predicting: 33it [00:00, ?it/s]"
      ]
     },
     "metadata": {},
     "output_type": "display_data"
    },
    {
     "name": "stderr",
     "output_type": "stream",
     "text": [
      "LOCAL_RANK: 0 - CUDA_VISIBLE_DEVICES: [0]\n"
     ]
    },
    {
     "data": {
      "application/vnd.jupyter.widget-view+json": {
       "model_id": "1f94ae9c1e6e42bdafcf29bc574ec1e9",
       "version_major": 2,
       "version_minor": 0
      },
      "text/plain": [
       "Predicting: 33it [00:00, ?it/s]"
      ]
     },
     "metadata": {},
     "output_type": "display_data"
    },
    {
     "name": "stderr",
     "output_type": "stream",
     "text": [
      "LOCAL_RANK: 0 - CUDA_VISIBLE_DEVICES: [0]\n"
     ]
    },
    {
     "data": {
      "application/vnd.jupyter.widget-view+json": {
       "model_id": "6830c4617b764e11afd6a5f701bcf380",
       "version_major": 2,
       "version_minor": 0
      },
      "text/plain": [
       "Predicting: 33it [00:00, ?it/s]"
      ]
     },
     "metadata": {},
     "output_type": "display_data"
    },
    {
     "name": "stderr",
     "output_type": "stream",
     "text": [
      "LOCAL_RANK: 0 - CUDA_VISIBLE_DEVICES: [0]\n"
     ]
    },
    {
     "data": {
      "application/vnd.jupyter.widget-view+json": {
       "model_id": "057fc36c87414e6bac7ba815c84b8ec5",
       "version_major": 2,
       "version_minor": 0
      },
      "text/plain": [
       "Predicting: 33it [00:00, ?it/s]"
      ]
     },
     "metadata": {},
     "output_type": "display_data"
    },
    {
     "name": "stderr",
     "output_type": "stream",
     "text": [
      "LOCAL_RANK: 0 - CUDA_VISIBLE_DEVICES: [0]\n"
     ]
    },
    {
     "data": {
      "application/vnd.jupyter.widget-view+json": {
       "model_id": "9b51be4836124842bf4030ac82677477",
       "version_major": 2,
       "version_minor": 0
      },
      "text/plain": [
       "Predicting: 33it [00:00, ?it/s]"
      ]
     },
     "metadata": {},
     "output_type": "display_data"
    },
    {
     "name": "stderr",
     "output_type": "stream",
     "text": [
      "LOCAL_RANK: 0 - CUDA_VISIBLE_DEVICES: [0]\n"
     ]
    },
    {
     "data": {
      "application/vnd.jupyter.widget-view+json": {
       "model_id": "650e4bd5cb62470a90d692f8be7e234e",
       "version_major": 2,
       "version_minor": 0
      },
      "text/plain": [
       "Predicting: 33it [00:00, ?it/s]"
      ]
     },
     "metadata": {},
     "output_type": "display_data"
    },
    {
     "name": "stderr",
     "output_type": "stream",
     "text": [
      "LOCAL_RANK: 0 - CUDA_VISIBLE_DEVICES: [0]\n"
     ]
    },
    {
     "data": {
      "application/vnd.jupyter.widget-view+json": {
       "model_id": "5baa016ed69b437cb7df80bddf9f87fa",
       "version_major": 2,
       "version_minor": 0
      },
      "text/plain": [
       "Predicting: 33it [00:00, ?it/s]"
      ]
     },
     "metadata": {},
     "output_type": "display_data"
    },
    {
     "name": "stderr",
     "output_type": "stream",
     "text": [
      "LOCAL_RANK: 0 - CUDA_VISIBLE_DEVICES: [0]\n"
     ]
    },
    {
     "data": {
      "application/vnd.jupyter.widget-view+json": {
       "model_id": "c26c3eed2a494651b0aea5a1cb6ff8ad",
       "version_major": 2,
       "version_minor": 0
      },
      "text/plain": [
       "Predicting: 33it [00:00, ?it/s]"
      ]
     },
     "metadata": {},
     "output_type": "display_data"
    },
    {
     "name": "stderr",
     "output_type": "stream",
     "text": [
      "LOCAL_RANK: 0 - CUDA_VISIBLE_DEVICES: [0]\n"
     ]
    },
    {
     "data": {
      "application/vnd.jupyter.widget-view+json": {
       "model_id": "11338f602ab1438bbdb9d3a5a5b32f5f",
       "version_major": 2,
       "version_minor": 0
      },
      "text/plain": [
       "Predicting: 33it [00:00, ?it/s]"
      ]
     },
     "metadata": {},
     "output_type": "display_data"
    },
    {
     "name": "stderr",
     "output_type": "stream",
     "text": [
      "LOCAL_RANK: 0 - CUDA_VISIBLE_DEVICES: [0]\n"
     ]
    },
    {
     "data": {
      "application/vnd.jupyter.widget-view+json": {
       "model_id": "5c0eb8edd482451db56d44131a4f3bf5",
       "version_major": 2,
       "version_minor": 0
      },
      "text/plain": [
       "Predicting: 33it [00:00, ?it/s]"
      ]
     },
     "metadata": {},
     "output_type": "display_data"
    },
    {
     "name": "stderr",
     "output_type": "stream",
     "text": [
      "LOCAL_RANK: 0 - CUDA_VISIBLE_DEVICES: [0]\n"
     ]
    },
    {
     "data": {
      "application/vnd.jupyter.widget-view+json": {
       "model_id": "073bf09c806046319aff293638f685f8",
       "version_major": 2,
       "version_minor": 0
      },
      "text/plain": [
       "Predicting: 33it [00:00, ?it/s]"
      ]
     },
     "metadata": {},
     "output_type": "display_data"
    },
    {
     "name": "stderr",
     "output_type": "stream",
     "text": [
      "LOCAL_RANK: 0 - CUDA_VISIBLE_DEVICES: [0]\n"
     ]
    },
    {
     "data": {
      "application/vnd.jupyter.widget-view+json": {
       "model_id": "b1d2f6838fa846a0b0b9765f81e34b11",
       "version_major": 2,
       "version_minor": 0
      },
      "text/plain": [
       "Predicting: 33it [00:00, ?it/s]"
      ]
     },
     "metadata": {},
     "output_type": "display_data"
    },
    {
     "name": "stderr",
     "output_type": "stream",
     "text": [
      "LOCAL_RANK: 0 - CUDA_VISIBLE_DEVICES: [0]\n"
     ]
    },
    {
     "data": {
      "application/vnd.jupyter.widget-view+json": {
       "model_id": "f13ae04f79d04c89a466bd7d1a1a5999",
       "version_major": 2,
       "version_minor": 0
      },
      "text/plain": [
       "Predicting: 33it [00:00, ?it/s]"
      ]
     },
     "metadata": {},
     "output_type": "display_data"
    },
    {
     "name": "stderr",
     "output_type": "stream",
     "text": [
      "LOCAL_RANK: 0 - CUDA_VISIBLE_DEVICES: [0]\n"
     ]
    },
    {
     "data": {
      "application/vnd.jupyter.widget-view+json": {
       "model_id": "3b8f0a24dadb4904bd96ae65c0454b7d",
       "version_major": 2,
       "version_minor": 0
      },
      "text/plain": [
       "Predicting: 33it [00:00, ?it/s]"
      ]
     },
     "metadata": {},
     "output_type": "display_data"
    },
    {
     "name": "stderr",
     "output_type": "stream",
     "text": [
      "LOCAL_RANK: 0 - CUDA_VISIBLE_DEVICES: [0]\n"
     ]
    },
    {
     "data": {
      "application/vnd.jupyter.widget-view+json": {
       "model_id": "0ff18fdba2d84b7c8f1c214ea4eb93fb",
       "version_major": 2,
       "version_minor": 0
      },
      "text/plain": [
       "Predicting: 33it [00:00, ?it/s]"
      ]
     },
     "metadata": {},
     "output_type": "display_data"
    },
    {
     "name": "stderr",
     "output_type": "stream",
     "text": [
      "LOCAL_RANK: 0 - CUDA_VISIBLE_DEVICES: [0]\n"
     ]
    },
    {
     "data": {
      "application/vnd.jupyter.widget-view+json": {
       "model_id": "fb87c05abf3044e58551585c39314d6b",
       "version_major": 2,
       "version_minor": 0
      },
      "text/plain": [
       "Predicting: 33it [00:00, ?it/s]"
      ]
     },
     "metadata": {},
     "output_type": "display_data"
    },
    {
     "name": "stderr",
     "output_type": "stream",
     "text": [
      "LOCAL_RANK: 0 - CUDA_VISIBLE_DEVICES: [0]\n"
     ]
    },
    {
     "data": {
      "application/vnd.jupyter.widget-view+json": {
       "model_id": "ec097a8096a94e16a4bef0869bc8d1ce",
       "version_major": 2,
       "version_minor": 0
      },
      "text/plain": [
       "Predicting: 33it [00:00, ?it/s]"
      ]
     },
     "metadata": {},
     "output_type": "display_data"
    },
    {
     "name": "stderr",
     "output_type": "stream",
     "text": [
      "LOCAL_RANK: 0 - CUDA_VISIBLE_DEVICES: [0]\n"
     ]
    },
    {
     "data": {
      "application/vnd.jupyter.widget-view+json": {
       "model_id": "c439eae578c04e56a7071de089d27e97",
       "version_major": 2,
       "version_minor": 0
      },
      "text/plain": [
       "Predicting: 33it [00:00, ?it/s]"
      ]
     },
     "metadata": {},
     "output_type": "display_data"
    },
    {
     "name": "stderr",
     "output_type": "stream",
     "text": [
      "LOCAL_RANK: 0 - CUDA_VISIBLE_DEVICES: [0]\n"
     ]
    },
    {
     "data": {
      "application/vnd.jupyter.widget-view+json": {
       "model_id": "3c6a41255084417d839299046cd8b304",
       "version_major": 2,
       "version_minor": 0
      },
      "text/plain": [
       "Predicting: 33it [00:00, ?it/s]"
      ]
     },
     "metadata": {},
     "output_type": "display_data"
    },
    {
     "name": "stderr",
     "output_type": "stream",
     "text": [
      "LOCAL_RANK: 0 - CUDA_VISIBLE_DEVICES: [0]\n"
     ]
    },
    {
     "data": {
      "application/vnd.jupyter.widget-view+json": {
       "model_id": "018ef5686fae43618ecfb536582d5b89",
       "version_major": 2,
       "version_minor": 0
      },
      "text/plain": [
       "Predicting: 33it [00:00, ?it/s]"
      ]
     },
     "metadata": {},
     "output_type": "display_data"
    }
   ],
   "source": [
    "backtest_series = model.historical_forecasts(\n",
    "    series=series['Close'],\n",
    "    past_covariates=series_cov,\n",
    "    start=1067,\n",
    "    forecast_horizon=5,\n",
    "    retrain=False,\n",
    "    verbose=False,\n",
    "    stride=5,\n",
    "    train_length=25,\n",
    "    last_points_only=False\n",
    "    )"
   ]
  },
  {
   "cell_type": "code",
   "execution_count": 18,
   "metadata": {},
   "outputs": [
    {
     "data": {
      "image/png": "[encoded data removed]",
      "text/plain": [
       "<Figure size 640x480 with 1 Axes>"
      ]
     },
     "metadata": {},
     "output_type": "display_data"
    }
   ],
   "source": [
    "series['Close'].plot()"
   ]
  },
  {
   "cell_type": "code",
   "execution_count": 19,
   "metadata": {},
   "outputs": [
    {
     "name": "stdout",
     "output_type": "stream",
     "text": [
      "<TimeSeries (DataArray) (Date: 5, component: 1, sample: 1)>\n",
      "array([[[1.4444953 ]],\n",
      "\n",
      "       [[1.42492416]],\n",
      "\n",
      "       [[1.42232732]],\n",
      "\n",
      "       [[1.40401629]],\n",
      "\n",
      "       [[1.39489694]]])\n",
      "Coordinates:\n",
      "  * Date       (Date) int64 1067 1068 1069 1070 1071\n",
      "  * component  (component) object 'Close'\n",
      "Dimensions without coordinates: sample\n",
      "Attributes:\n",
      "    static_covariates:  None\n",
      "    hierarchy:          None\n",
      "<TimeSeries (DataArray) (Date: 5, component: 1, sample: 1)>\n",
      "array([[[1.60266948]],\n",
      "\n",
      "       [[1.59669566]],\n",
      "\n",
      "       [[1.56151942]],\n",
      "\n",
      "       [[1.54952931]],\n",
      "\n",
      "       [[1.5397901 ]]])\n",
      "Coordinates:\n",
      "  * Date       (Date) int64 1072 1073 1074 1075 1076\n",
      "  * component  (component) object 'Close'\n",
      "Dimensions without coordinates: sample\n",
      "Attributes:\n",
      "    static_covariates:  None\n",
      "    hierarchy:          None\n",
      "<TimeSeries (DataArray) (Date: 5, component: 1, sample: 1)>\n",
      "array([[[1.61250103]],\n",
      "\n",
      "       [[1.60310192]],\n",
      "\n",
      "       [[1.56571178]],\n",
      "\n",
      "       [[1.55675606]],\n",
      "\n",
      "       [[1.54652029]]])\n",
      "Coordinates:\n",
      "  * Date       (Date) int64 1077 1078 1079 1080 1081\n",
      "  * component  (component) object 'Close'\n",
      "Dimensions without coordinates: sample\n",
      "Attributes:\n",
      "    static_covariates:  None\n",
      "    hierarchy:          None\n",
      "<TimeSeries (DataArray) (Date: 5, component: 1, sample: 1)>\n",
      "array([[[1.73027328]],\n",
      "\n",
      "       [[1.71957728]],\n",
      "\n",
      "       [[1.66909642]],\n",
      "\n",
      "       [[1.66072634]],\n",
      "\n",
      "       [[1.64730536]]])\n",
      "Coordinates:\n",
      "  * Date       (Date) int64 1082 1083 1084 1085 1086\n",
      "  * component  (component) object 'Close'\n",
      "Dimensions without coordinates: sample\n",
      "Attributes:\n",
      "    static_covariates:  None\n",
      "    hierarchy:          None\n",
      "<TimeSeries (DataArray) (Date: 5, component: 1, sample: 1)>\n",
      "array([[[1.87110159]],\n",
      "\n",
      "       [[1.85647385]],\n",
      "\n",
      "       [[1.78465727]],\n",
      "\n",
      "       [[1.78503532]],\n",
      "\n",
      "       [[1.76971321]]])\n",
      "Coordinates:\n",
      "  * Date       (Date) int64 1087 1088 1089 1090 1091\n",
      "  * component  (component) object 'Close'\n",
      "Dimensions without coordinates: sample\n",
      "Attributes:\n",
      "    static_covariates:  None\n",
      "    hierarchy:          None\n",
      "<TimeSeries (DataArray) (Date: 5, component: 1, sample: 1)>\n",
      "array([[[1.49136898]],\n",
      "\n",
      "       [[1.46568817]],\n",
      "\n",
      "       [[1.45686578]],\n",
      "\n",
      "       [[1.4416277 ]],\n",
      "\n",
      "       [[1.43088132]]])\n",
      "Coordinates:\n",
      "  * Date       (Date) int64 1092 1093 1094 1095 1096\n",
      "  * component  (component) object 'Close'\n",
      "Dimensions without coordinates: sample\n",
      "Attributes:\n",
      "    static_covariates:  None\n",
      "    hierarchy:          None\n",
      "<TimeSeries (DataArray) (Date: 5, component: 1, sample: 1)>\n",
      "array([[[1.31184964]],\n",
      "\n",
      "       [[1.29259269]],\n",
      "\n",
      "       [[1.31585046]],\n",
      "\n",
      "       [[1.28430718]],\n",
      "\n",
      "       [[1.27643347]]])\n",
      "Coordinates:\n",
      "  * Date       (Date) int64 1097 1098 1099 1100 1101\n",
      "  * component  (component) object 'Close'\n",
      "Dimensions without coordinates: sample\n",
      "Attributes:\n",
      "    static_covariates:  None\n",
      "    hierarchy:          None\n",
      "<TimeSeries (DataArray) (Date: 5, component: 1, sample: 1)>\n",
      "array([[[1.34386422]],\n",
      "\n",
      "       [[1.33790544]],\n",
      "\n",
      "       [[1.34293901]],\n",
      "\n",
      "       [[1.31656868]],\n",
      "\n",
      "       [[1.31223072]]])\n",
      "Coordinates:\n",
      "  * Date       (Date) int64 1102 1103 1104 1105 1106\n",
      "  * component  (component) object 'Close'\n",
      "Dimensions without coordinates: sample\n",
      "Attributes:\n",
      "    static_covariates:  None\n",
      "    hierarchy:          None\n",
      "<TimeSeries (DataArray) (Date: 5, component: 1, sample: 1)>\n",
      "array([[[1.28689426]],\n",
      "\n",
      "       [[1.28040071]],\n",
      "\n",
      "       [[1.27690984]],\n",
      "\n",
      "       [[1.26584182]],\n",
      "\n",
      "       [[1.26531663]]])\n",
      "Coordinates:\n",
      "  * Date       (Date) int64 1107 1108 1109 1110 1111\n",
      "  * component  (component) object 'Close'\n",
      "Dimensions without coordinates: sample\n",
      "Attributes:\n",
      "    static_covariates:  None\n",
      "    hierarchy:          None\n",
      "<TimeSeries (DataArray) (Date: 5, component: 1, sample: 1)>\n",
      "array([[[0.8573782 ]],\n",
      "\n",
      "       [[0.83625407]],\n",
      "\n",
      "       [[0.88020412]],\n",
      "\n",
      "       [[0.85622936]],\n",
      "\n",
      "       [[0.87022011]]])\n",
      "Coordinates:\n",
      "  * Date       (Date) int64 1112 1113 1114 1115 1116\n",
      "  * component  (component) object 'Close'\n",
      "Dimensions without coordinates: sample\n",
      "Attributes:\n",
      "    static_covariates:  None\n",
      "    hierarchy:          None\n",
      "<TimeSeries (DataArray) (Date: 5, component: 1, sample: 1)>\n",
      "array([[[1.01670565]],\n",
      "\n",
      "       [[1.02675394]],\n",
      "\n",
      "       [[1.00485182]],\n",
      "\n",
      "       [[1.01816073]],\n",
      "\n",
      "       [[1.03196438]]])\n",
      "Coordinates:\n",
      "  * Date       (Date) int64 1117 1118 1119 1120 1121\n",
      "  * component  (component) object 'Close'\n",
      "Dimensions without coordinates: sample\n",
      "Attributes:\n",
      "    static_covariates:  None\n",
      "    hierarchy:          None\n",
      "<TimeSeries (DataArray) (Date: 5, component: 1, sample: 1)>\n",
      "array([[[1.09769164]],\n",
      "\n",
      "       [[1.10571207]],\n",
      "\n",
      "       [[1.0837014 ]],\n",
      "\n",
      "       [[1.09261444]],\n",
      "\n",
      "       [[1.10349736]]])\n",
      "Coordinates:\n",
      "  * Date       (Date) int64 1122 1123 1124 1125 1126\n",
      "  * component  (component) object 'Close'\n",
      "Dimensions without coordinates: sample\n",
      "Attributes:\n",
      "    static_covariates:  None\n",
      "    hierarchy:          None\n",
      "<TimeSeries (DataArray) (Date: 5, component: 1, sample: 1)>\n",
      "array([[[1.09678026]],\n",
      "\n",
      "       [[1.09508991]],\n",
      "\n",
      "       [[1.10732468]],\n",
      "\n",
      "       [[1.09201688]],\n",
      "\n",
      "       [[1.09668581]]])\n",
      "Coordinates:\n",
      "  * Date       (Date) int64 1127 1128 1129 1130 1131\n",
      "  * component  (component) object 'Close'\n",
      "Dimensions without coordinates: sample\n",
      "Attributes:\n",
      "    static_covariates:  None\n",
      "    hierarchy:          None\n",
      "<TimeSeries (DataArray) (Date: 5, component: 1, sample: 1)>\n",
      "array([[[1.10655566]],\n",
      "\n",
      "       [[1.11399593]],\n",
      "\n",
      "       [[1.09274204]],\n",
      "\n",
      "       [[1.10100817]],\n",
      "\n",
      "       [[1.11202926]]])\n",
      "Coordinates:\n",
      "  * Date       (Date) int64 1132 1133 1134 1135 1136\n",
      "  * component  (component) object 'Close'\n",
      "Dimensions without coordinates: sample\n",
      "Attributes:\n",
      "    static_covariates:  None\n",
      "    hierarchy:          None\n",
      "<TimeSeries (DataArray) (Date: 5, component: 1, sample: 1)>\n",
      "array([[[1.23399908]],\n",
      "\n",
      "       [[1.23971558]],\n",
      "\n",
      "       [[1.2140961 ]],\n",
      "\n",
      "       [[1.21636566]],\n",
      "\n",
      "       [[1.22258249]]])\n",
      "Coordinates:\n",
      "  * Date       (Date) int64 1137 1138 1139 1140 1141\n",
      "  * component  (component) object 'Close'\n",
      "Dimensions without coordinates: sample\n",
      "Attributes:\n",
      "    static_covariates:  None\n",
      "    hierarchy:          None\n",
      "<TimeSeries (DataArray) (Date: 5, component: 1, sample: 1)>\n",
      "array([[[1.31672276]],\n",
      "\n",
      "       [[1.31858333]],\n",
      "\n",
      "       [[1.30154903]],\n",
      "\n",
      "       [[1.29339058]],\n",
      "\n",
      "       [[1.29341894]]])\n",
      "Coordinates:\n",
      "  * Date       (Date) int64 1142 1143 1144 1145 1146\n",
      "  * component  (component) object 'Close'\n",
      "Dimensions without coordinates: sample\n",
      "Attributes:\n",
      "    static_covariates:  None\n",
      "    hierarchy:          None\n",
      "<TimeSeries (DataArray) (Date: 5, component: 1, sample: 1)>\n",
      "array([[[1.26741385]],\n",
      "\n",
      "       [[1.26408696]],\n",
      "\n",
      "       [[1.25861198]],\n",
      "\n",
      "       [[1.24665769]],\n",
      "\n",
      "       [[1.24749204]]])\n",
      "Coordinates:\n",
      "  * Date       (Date) int64 1147 1148 1149 1150 1151\n",
      "  * component  (component) object 'Close'\n",
      "Dimensions without coordinates: sample\n",
      "Attributes:\n",
      "    static_covariates:  None\n",
      "    hierarchy:          None\n",
      "<TimeSeries (DataArray) (Date: 5, component: 1, sample: 1)>\n",
      "array([[[1.64217679]],\n",
      "\n",
      "       [[1.63972543]],\n",
      "\n",
      "       [[1.59569346]],\n",
      "\n",
      "       [[1.58348826]],\n",
      "\n",
      "       [[1.57297932]]])\n",
      "Coordinates:\n",
      "  * Date       (Date) int64 1152 1153 1154 1155 1156\n",
      "  * component  (component) object 'Close'\n",
      "Dimensions without coordinates: sample\n",
      "Attributes:\n",
      "    static_covariates:  None\n",
      "    hierarchy:          None\n",
      "<TimeSeries (DataArray) (Date: 5, component: 1, sample: 1)>\n",
      "array([[[1.41831599]],\n",
      "\n",
      "       [[1.39440339]],\n",
      "\n",
      "       [[1.39474095]],\n",
      "\n",
      "       [[1.37603845]],\n",
      "\n",
      "       [[1.36759522]]])\n",
      "Coordinates:\n",
      "  * Date       (Date) int64 1157 1158 1159 1160 1161\n",
      "  * component  (component) object 'Close'\n",
      "Dimensions without coordinates: sample\n",
      "Attributes:\n",
      "    static_covariates:  None\n",
      "    hierarchy:          None\n",
      "<TimeSeries (DataArray) (Date: 5, component: 1, sample: 1)>\n",
      "array([[[1.43796694]],\n",
      "\n",
      "       [[1.4247441 ]],\n",
      "\n",
      "       [[1.4223505 ]],\n",
      "\n",
      "       [[1.39937461]],\n",
      "\n",
      "       [[1.3910481 ]]])\n",
      "Coordinates:\n",
      "  * Date       (Date) int64 1162 1163 1164 1165 1166\n",
      "  * component  (component) object 'Close'\n",
      "Dimensions without coordinates: sample\n",
      "Attributes:\n",
      "    static_covariates:  None\n",
      "    hierarchy:          None\n",
      "<TimeSeries (DataArray) (Date: 5, component: 1, sample: 1)>\n",
      "array([[[1.50727104]],\n",
      "\n",
      "       [[1.50188031]],\n",
      "\n",
      "       [[1.47638765]],\n",
      "\n",
      "       [[1.46542197]],\n",
      "\n",
      "       [[1.45817469]]])\n",
      "Coordinates:\n",
      "  * Date       (Date) int64 1167 1168 1169 1170 1171\n",
      "  * component  (component) object 'Close'\n",
      "Dimensions without coordinates: sample\n",
      "Attributes:\n",
      "    static_covariates:  None\n",
      "    hierarchy:          None\n",
      "<TimeSeries (DataArray) (Date: 5, component: 1, sample: 1)>\n",
      "array([[[1.41812542]],\n",
      "\n",
      "       [[1.40626795]],\n",
      "\n",
      "       [[1.39718832]],\n",
      "\n",
      "       [[1.38244946]],\n",
      "\n",
      "       [[1.37657283]]])\n",
      "Coordinates:\n",
      "  * Date       (Date) int64 1172 1173 1174 1175 1176\n",
      "  * component  (component) object 'Close'\n",
      "Dimensions without coordinates: sample\n",
      "Attributes:\n",
      "    static_covariates:  None\n",
      "    hierarchy:          None\n",
      "<TimeSeries (DataArray) (Date: 5, component: 1, sample: 1)>\n",
      "array([[[1.5285114 ]],\n",
      "\n",
      "       [[1.52392043]],\n",
      "\n",
      "       [[1.48389026]],\n",
      "\n",
      "       [[1.4826259 ]],\n",
      "\n",
      "       [[1.4773777 ]]])\n",
      "Coordinates:\n",
      "  * Date       (Date) int64 1177 1178 1179 1180 1181\n",
      "  * component  (component) object 'Close'\n",
      "Dimensions without coordinates: sample\n",
      "Attributes:\n",
      "    static_covariates:  None\n",
      "    hierarchy:          None\n",
      "<TimeSeries (DataArray) (Date: 5, component: 1, sample: 1)>\n",
      "array([[[1.6481373 ]],\n",
      "\n",
      "       [[1.6428367 ]],\n",
      "\n",
      "       [[1.59019181]],\n",
      "\n",
      "       [[1.58859764]],\n",
      "\n",
      "       [[1.5802565 ]]])\n",
      "Coordinates:\n",
      "  * Date       (Date) int64 1182 1183 1184 1185 1186\n",
      "  * component  (component) object 'Close'\n",
      "Dimensions without coordinates: sample\n",
      "Attributes:\n",
      "    static_covariates:  None\n",
      "    hierarchy:          None\n",
      "<TimeSeries (DataArray) (Date: 5, component: 1, sample: 1)>\n",
      "array([[[1.69448551]],\n",
      "\n",
      "       [[1.68100914]],\n",
      "\n",
      "       [[1.63895776]],\n",
      "\n",
      "       [[1.62778764]],\n",
      "\n",
      "       [[1.6150096 ]]])\n",
      "Coordinates:\n",
      "  * Date       (Date) int64 1187 1188 1189 1190 1191\n",
      "  * component  (component) object 'Close'\n",
      "Dimensions without coordinates: sample\n",
      "Attributes:\n",
      "    static_covariates:  None\n",
      "    hierarchy:          None\n",
      "<TimeSeries (DataArray) (Date: 5, component: 1, sample: 1)>\n",
      "array([[[1.70782712]],\n",
      "\n",
      "       [[1.69073367]],\n",
      "\n",
      "       [[1.64909859]],\n",
      "\n",
      "       [[1.63849784]],\n",
      "\n",
      "       [[1.62568096]]])\n",
      "Coordinates:\n",
      "  * Date       (Date) int64 1192 1193 1194 1195 1196\n",
      "  * component  (component) object 'Close'\n",
      "Dimensions without coordinates: sample\n",
      "Attributes:\n",
      "    static_covariates:  None\n",
      "    hierarchy:          None\n",
      "<TimeSeries (DataArray) (Date: 5, component: 1, sample: 1)>\n",
      "array([[[1.49909769]],\n",
      "\n",
      "       [[1.4685917 ]],\n",
      "\n",
      "       [[1.47873086]],\n",
      "\n",
      "       [[1.44921857]],\n",
      "\n",
      "       [[1.43314991]]])\n",
      "Coordinates:\n",
      "  * Date       (Date) int64 1197 1198 1199 1200 1201\n",
      "  * component  (component) object 'Close'\n",
      "Dimensions without coordinates: sample\n",
      "Attributes:\n",
      "    static_covariates:  None\n",
      "    hierarchy:          None\n",
      "<TimeSeries (DataArray) (Date: 5, component: 1, sample: 1)>\n",
      "array([[[1.56759698]],\n",
      "\n",
      "       [[1.55706331]],\n",
      "\n",
      "       [[1.52882849]],\n",
      "\n",
      "       [[1.51668678]],\n",
      "\n",
      "       [[1.50673706]]])\n",
      "Coordinates:\n",
      "  * Date       (Date) int64 1202 1203 1204 1205 1206\n",
      "  * component  (component) object 'Close'\n",
      "Dimensions without coordinates: sample\n",
      "Attributes:\n",
      "    static_covariates:  None\n",
      "    hierarchy:          None\n",
      "<TimeSeries (DataArray) (Date: 5, component: 1, sample: 1)>\n",
      "array([[[1.74325226]],\n",
      "\n",
      "       [[1.73690197]],\n",
      "\n",
      "       [[1.67582214]],\n",
      "\n",
      "       [[1.67446746]],\n",
      "\n",
      "       [[1.66354324]]])\n",
      "Coordinates:\n",
      "  * Date       (Date) int64 1207 1208 1209 1210 1211\n",
      "  * component  (component) object 'Close'\n",
      "Dimensions without coordinates: sample\n",
      "Attributes:\n",
      "    static_covariates:  None\n",
      "    hierarchy:          None\n",
      "<TimeSeries (DataArray) (Date: 5, component: 1, sample: 1)>\n",
      "array([[[1.77522375]],\n",
      "\n",
      "       [[1.75999533]],\n",
      "\n",
      "       [[1.70717285]],\n",
      "\n",
      "       [[1.69922075]],\n",
      "\n",
      "       [[1.68502345]]])\n",
      "Coordinates:\n",
      "  * Date       (Date) int64 1212 1213 1214 1215 1216\n",
      "  * component  (component) object 'Close'\n",
      "Dimensions without coordinates: sample\n",
      "Attributes:\n",
      "    static_covariates:  None\n",
      "    hierarchy:          None\n",
      "<TimeSeries (DataArray) (Date: 5, component: 1, sample: 1)>\n",
      "array([[[1.80130758]],\n",
      "\n",
      "       [[1.77839474]],\n",
      "\n",
      "       [[1.73488687]],\n",
      "\n",
      "       [[1.71960619]],\n",
      "\n",
      "       [[1.70255545]]])\n",
      "Coordinates:\n",
      "  * Date       (Date) int64 1217 1218 1219 1220 1221\n",
      "  * component  (component) object 'Close'\n",
      "Dimensions without coordinates: sample\n",
      "Attributes:\n",
      "    static_covariates:  None\n",
      "    hierarchy:          None\n",
      "<TimeSeries (DataArray) (Date: 5, component: 1, sample: 1)>\n",
      "array([[[1.92943872]],\n",
      "\n",
      "       [[1.91297177]],\n",
      "\n",
      "       [[1.8332394 ]],\n",
      "\n",
      "       [[1.8372952 ]],\n",
      "\n",
      "       [[1.82081088]]])\n",
      "Coordinates:\n",
      "  * Date       (Date) int64 1222 1223 1224 1225 1226\n",
      "  * component  (component) object 'Close'\n",
      "Dimensions without coordinates: sample\n",
      "Attributes:\n",
      "    static_covariates:  None\n",
      "    hierarchy:          None\n",
      "<TimeSeries (DataArray) (Date: 5, component: 1, sample: 1)>\n",
      "array([[[1.94988555]],\n",
      "\n",
      "       [[1.92683228]],\n",
      "\n",
      "       [[1.85363694]],\n",
      "\n",
      "       [[1.85199527]],\n",
      "\n",
      "       [[1.83414899]]])\n",
      "Coordinates:\n",
      "  * Date       (Date) int64 1227 1228 1229 1230 1231\n",
      "  * component  (component) object 'Close'\n",
      "Dimensions without coordinates: sample\n",
      "Attributes:\n",
      "    static_covariates:  None\n",
      "    hierarchy:          None\n",
      "<TimeSeries (DataArray) (Date: 5, component: 1, sample: 1)>\n",
      "array([[[1.95937038]],\n",
      "\n",
      "       [[1.92934091]],\n",
      "\n",
      "       [[1.86668308]],\n",
      "\n",
      "       [[1.85833187]],\n",
      "\n",
      "       [[1.83951872]]])\n",
      "Coordinates:\n",
      "  * Date       (Date) int64 1232 1233 1234 1235 1236\n",
      "  * component  (component) object 'Close'\n",
      "Dimensions without coordinates: sample\n",
      "Attributes:\n",
      "    static_covariates:  None\n",
      "    hierarchy:          None\n",
      "<TimeSeries (DataArray) (Date: 5, component: 1, sample: 1)>\n",
      "array([[[1.96805715]],\n",
      "\n",
      "       [[1.94248133]],\n",
      "\n",
      "       [[1.87294006]],\n",
      "\n",
      "       [[1.86801554]],\n",
      "\n",
      "       [[1.84982354]]])\n",
      "Coordinates:\n",
      "  * Date       (Date) int64 1237 1238 1239 1240 1241\n",
      "  * component  (component) object 'Close'\n",
      "Dimensions without coordinates: sample\n",
      "Attributes:\n",
      "    static_covariates:  None\n",
      "    hierarchy:          None\n",
      "<TimeSeries (DataArray) (Date: 5, component: 1, sample: 1)>\n",
      "array([[[2.02477034]],\n",
      "\n",
      "       [[2.0047242 ]],\n",
      "\n",
      "       [[1.91103188]],\n",
      "\n",
      "       [[1.92212065]],\n",
      "\n",
      "       [[1.90498448]]])\n",
      "Coordinates:\n",
      "  * Date       (Date) int64 1242 1243 1244 1245 1246\n",
      "  * component  (component) object 'Close'\n",
      "Dimensions without coordinates: sample\n",
      "Attributes:\n",
      "    static_covariates:  None\n",
      "    hierarchy:          None\n",
      "<TimeSeries (DataArray) (Date: 5, component: 1, sample: 1)>\n",
      "array([[[2.07671636]],\n",
      "\n",
      "       [[2.05056981]],\n",
      "\n",
      "       [[1.95506011]],\n",
      "\n",
      "       [[1.96564882]],\n",
      "\n",
      "       [[1.94855456]]])\n",
      "Coordinates:\n",
      "  * Date       (Date) int64 1247 1248 1249 1250 1251\n",
      "  * component  (component) object 'Close'\n",
      "Dimensions without coordinates: sample\n",
      "Attributes:\n",
      "    static_covariates:  None\n",
      "    hierarchy:          None\n",
      "<TimeSeries (DataArray) (Date: 5, component: 1, sample: 1)>\n",
      "array([[[2.10243518]],\n",
      "\n",
      "       [[2.07353595]],\n",
      "\n",
      "       [[1.97507143]],\n",
      "\n",
      "       [[1.98863424]],\n",
      "\n",
      "       [[1.9713898 ]]])\n",
      "Coordinates:\n",
      "  * Date       (Date) int64 1252 1253 1254 1255 1256\n",
      "  * component  (component) object 'Close'\n",
      "Dimensions without coordinates: sample\n",
      "Attributes:\n",
      "    static_covariates:  None\n",
      "    hierarchy:          None\n"
     ]
    }
   ],
   "source": [
    "for i in backtest_series:\n",
    "    print(i)"
   ]
  },
  {
   "cell_type": "code",
   "execution_count": null,
   "metadata": {},
   "outputs": [],
   "source": [
    "plot_backtest(\n",
    "    model=model,\n",
    "    start=1220,\n",
    "    horizon=1,\n",
    "    stride=1,\n",
    "    train_length=25\n",
    ")"
   ]
  },
  {
   "cell_type": "code",
   "execution_count": null,
   "metadata": {},
   "outputs": [],
   "source": [
    "pred = model.historical_forecasts(\n",
    "    series=series[target],\n",
    "    past_covariates=series_cov,\n",
    "    forecast_horizon=5,\n",
    "    stride=1,\n",
    "    retrain=False\n",
    ")"
   ]
  },
  {
   "cell_type": "code",
   "execution_count": null,
   "metadata": {},
   "outputs": [],
   "source": [
    "pred.plot()\n",
    "val_scaled[target].plot()"
   ]
  },
  {
   "cell_type": "code",
   "execution_count": null,
   "metadata": {},
   "outputs": [],
   "source": [
    "pred = model.predict(\n",
    "    n=5, series=train_scaled[target],\n",
    "    past_covariates=train_cov\n",
    ")"
   ]
  },
  {
   "cell_type": "code",
   "execution_count": null,
   "metadata": {},
   "outputs": [],
   "source": [
    "pred.plot()\n",
    "val_scaled[target][18:26].plot()"
   ]
  },
  {
   "cell_type": "code",
   "execution_count": null,
   "metadata": {},
   "outputs": [],
   "source": []
  },
  {
   "cell_type": "markdown",
   "metadata": {},
   "source": [
    "## N BEATS"
   ]
  },
  {
   "cell_type": "code",
   "execution_count": null,
   "metadata": {},
   "outputs": [],
   "source": [
    "model = TransformerModel(\n",
    "    input_chunk_length=3,\n",
    "    output_chunk_length=5,\n",
    "    # d_model=5,\n",
    "    force_reset=True,\n",
    "    pl_trainer_kwargs={\n",
    "      \"accelerator\": \"gpu\",\n",
    "      \"devices\": -1,\n",
    "      \"callbacks\": [my_stopper],\n",
    "      \"enable_progress_bar\": True\n",
    "    }\n",
    ")"
   ]
  },
  {
   "cell_type": "code",
   "execution_count": null,
   "metadata": {},
   "outputs": [],
   "source": [
    "model.fit(\n",
    "    train_scaled[target],\n",
    "    past_covariates=train_cov,\n",
    "    val_series=val_scaled[target],\n",
    "    val_past_covariates=val_cov\n",
    ")"
   ]
  },
  {
   "cell_type": "code",
   "execution_count": null,
   "metadata": {},
   "outputs": [],
   "source": []
  }
 ],
 "metadata": {
  "kernelspec": {
   "display_name": "Python 3",
   "language": "python",
   "name": "python3"
  },
  "language_info": {
   "codemirror_mode": {
    "name": "ipython",
    "version": 3
   },
   "file_extension": ".py",
   "mimetype": "text/x-python",
   "name": "python",
   "nbconvert_exporter": "python",
   "pygments_lexer": "ipython3",
   "version": "3.10.9 (main, Dec 19 2022, 17:35:49) [GCC 12.2.0]"
  },
  "orig_nbformat": 4,
  "vscode": {
   "interpreter": {
    "hash": "767d51c1340bd893661ea55ea3124f6de3c7a262a8b4abca0554b478b1e2ff90"
   }
  }
 },
 "nbformat": 4,
 "nbformat_minor": 2
}
