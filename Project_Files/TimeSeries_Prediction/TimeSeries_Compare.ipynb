{
 "cells": [
  {
   "cell_type": "code",
   "execution_count": 1,
   "metadata": {},
   "outputs": [],
   "source": [
    "import os, sys\n",
    "\n",
    "parent = os.path.abspath('..')\n",
    "sys.path.insert(1, parent)"
   ]
  },
  {
   "cell_type": "code",
   "execution_count": 2,
   "metadata": {},
   "outputs": [],
   "source": [
    "from helper_funcs.preprocessing import total_timeseries, get_covariates\n",
    "from helper_funcs.inverse import inverse_func\n",
    "from helper_funcs.error import error_count\n",
    "from helper_funcs.prediction import model_compare\n",
    "\n",
    "from darts.utils.model_selection import train_test_split\n",
    "from darts.dataprocessing.transformers import StaticCovariatesTransformer, Scaler\n",
    "from pytorch_lightning.callbacks import ModelCheckpoint, RichProgressBar\n",
    "from darts.models import NLinearModel, TFTModel\n",
    "from darts import TimeSeries\n",
    "\n",
    "import pandas as pd \n",
    "\n",
    "RANDOM = 101\n",
    "INPUT_CHUNK = 15\n",
    "OUTPUT_CHUNK = 3\n",
    "TEST_SIZE = 0.2\n",
    "RETRAIN=True\n",
    "LAST=False\n",
    "RESET=False\n",
    "EXP_MA = 15\n",
    "SAVE = True\n",
    "EPOCHS = 100\n",
    "\n",
    "timeseries = total_timeseries(INPUT_CHUNK, market=True, sentiment=True, embeddings=True)\n",
    "timeseries = StaticCovariatesTransformer().fit_transform(timeseries)\n",
    "\n",
    "train, val = train_test_split(\n",
    "    timeseries,\n",
    "    axis=1,\n",
    "    test_size=TEST_SIZE,\n",
    "    input_size=INPUT_CHUNK,\n",
    "    horizon=OUTPUT_CHUNK,\n",
    "    vertical_split_type='model-aware'\n",
    ")\n",
    "\n",
    "data = [train, val]\n",
    "\n",
    "target_train, past_train, future_train, target_val, past_val, future_val, target_test, past_test, future_test = get_covariates(\n",
    "    data,\n",
    "    target='Close',\n",
    "    past_covariates=[],\n",
    "    embeddings=False\n",
    "    )\n",
    "\n",
    "scaler_target = Scaler()\n",
    "scaler_covariates = Scaler()\n",
    "\n",
    "target_train_scaled = scaler_target.fit_transform(target_train)\n",
    "target_val_scaled = scaler_target.transform(target_val)\n",
    "target_test_scaled = scaler_target.transform(target_test)"
   ]
  },
  {
   "cell_type": "code",
   "execution_count": 3,
   "metadata": {},
   "outputs": [],
   "source": [
    "# names = ['model_nlinear_HLOV', 'model_nlinear_HLOVS1', 'model_nlinear_HLOVS2', 'model_nlinear_HLOVE', 'model_tft_HLOV', 'model_tft_HLOVS1', 'model_tft_HLOVS2', 'model_tft_HLOVE']\n",
    "names = ['model_tft_HLOVS1']"
   ]
  },
  {
   "cell_type": "code",
   "execution_count": 9,
   "metadata": {},
   "outputs": [
    {
     "name": "stdout",
     "output_type": "stream",
     "text": [
      "           Rank      MAPE       MAE        R2      RMSE       MSE     SMAPE\n",
      "tft_HLOVS     1  2.838181  1.801166  0.416686  2.170103  4.709346  2.897573\n",
      "           Rank      MAPE       MAE        R2      RMSE       MSE     SMAPE\n",
      "tft_HLOVS     1  1.549697  0.815205 -4.529449  1.032105  1.065242  1.551862\n",
      "           Rank      MAPE       MAE        R2      RMSE       MSE     SMAPE\n",
      "tft_HLOVS     1  1.345921  0.788653  0.406476  1.012799  1.025761  1.357509\n",
      "           Rank     MAPE       MAE       R2     RMSE       MSE     SMAPE\n",
      "tft_HLOVS     1  2.35868  1.695426  0.23406  1.92467  3.704353  2.388104\n",
      "           Rank      MAPE       MAE        R2      RMSE        MSE     SMAPE\n",
      "tft_HLOVS     1  8.161342  3.960611  0.141121  4.769636  22.749429  8.568932\n"
     ]
    }
   ],
   "source": [
    "aapl = model_compare(scaler_target, target_val_scaled, names, 0, (200, 300))\n",
    "amzn = model_compare(scaler_target, target_val_scaled, names, 1, (200, 300))\n",
    "goog = model_compare(scaler_target, target_val_scaled, names, 2, (200, 300))\n",
    "# googl = model_compare(scaler_target, target_val_scaled, names, 3, (0, 300))\n",
    "msft = model_compare(scaler_target, target_val_scaled, names, 4, (200, 300))\n",
    "tsla = model_compare(scaler_target, target_val_scaled, names, 5, (200, 300))"
   ]
  },
  {
   "cell_type": "code",
   "execution_count": 10,
   "metadata": {},
   "outputs": [
    {
     "name": "stdout",
     "output_type": "stream",
     "text": [
      "           Rank     MAPE      MAE        R2      RMSE       MSE     SMAPE\n",
      "tft_HLOVS     1  2.80789  1.29626  0.700494  1.757504  3.088819  2.751571\n",
      "           Rank      MAPE      MAE        R2      RMSE       MSE     SMAPE\n",
      "tft_HLOVS     1  1.706704  0.88246  0.709275  1.230603  1.514384  1.689182\n",
      "           Rank      MAPE      MAE        R2      RMSE       MSE     SMAPE\n",
      "tft_HLOVS     1  2.028897  1.08516  0.535778  1.443153  2.082689  2.011646\n",
      "           Rank      MAPE       MAE        R2      RMSE       MSE     SMAPE\n",
      "tft_HLOVS     1  1.279188  0.766941  0.914257  1.027947  1.056674  1.289071\n",
      "           Rank       MAPE       MAE       R2      RMSE        MSE      SMAPE\n",
      "tft_HLOVS     1  13.789393  5.931429 -2.03591  7.658384  58.650851  12.477111\n"
     ]
    }
   ],
   "source": [
    "aapl = model_compare(scaler_target, target_val_scaled, names, 0, (20, 100))\n",
    "amzn = model_compare(scaler_target, target_val_scaled, names, 1, (20, 100))\n",
    "goog = model_compare(scaler_target, target_val_scaled, names, 2, (20, 100))\n",
    "# googl = model_compare(scaler_target, target_val_scaled, names, 3, (20, 300))\n",
    "msft = model_compare(scaler_target, target_val_scaled, names, 4, (20, 100))\n",
    "tsla = model_compare(scaler_target, target_val_scaled, names, 5, (20, 100))"
   ]
  },
  {
   "cell_type": "code",
   "execution_count": 8,
   "metadata": {},
   "outputs": [
    {
     "name": "stdout",
     "output_type": "stream",
     "text": [
      "\\begin{tabular}{llrrrrrrr}\n",
      "\\toprule\n",
      "      &           &  Rank &     MAPE &     MAE &      R2 &    RMSE &      MSE &    SMAPE \\\\\n",
      "\\midrule\n",
      "Apple & tft\\_HLOVS &     1 &   2.8079 &  1.2963 &  0.7005 &  1.7575 &   3.0888 &   2.7516 \\\\\n",
      "Amazon & tft\\_HLOVS &     1 &   1.7067 &  0.8825 &  0.7093 &  1.2306 &   1.5144 &   1.6892 \\\\\n",
      "Google & tft\\_HLOVS &     1 &   2.0289 &  1.0852 &  0.5358 &  1.4432 &   2.0827 &   2.0116 \\\\\n",
      "Microsoft & tft\\_HLOVS &     1 &   1.2792 &  0.7669 &  0.9143 &  1.0279 &   1.0567 &   1.2891 \\\\\n",
      "Tesla & tft\\_HLOVS &     1 &  13.7894 &  5.9314 & -2.0359 &  7.6584 &  58.6509 &  12.4771 \\\\\n",
      "\\bottomrule\n",
      "\\end{tabular}\n",
      "\n"
     ]
    },
    {
     "name": "stderr",
     "output_type": "stream",
     "text": [
      "/tmp/ipykernel_37069/868740730.py:15: FutureWarning: In future versions `DataFrame.to_latex` is expected to utilise the base implementation of `Styler.to_latex` for formatting and rendering. The arguments signature may therefore change. It is recommended instead to use `DataFrame.style.to_latex` which also contains additional functionality.\n",
      "  }, axis=0).round(decimals=4).to_latex())\n"
     ]
    }
   ],
   "source": [
    "pd.concat({\n",
    "    'Apple': aapl,\n",
    "    'Amazon' : amzn,\n",
    "    'Google': goog,\n",
    "    'Microsoft': msft,\n",
    "    'Tesla' : tsla,\n",
    "    }, axis=0).round(decimals=4)\n",
    "\n",
    "print(pd.concat({\n",
    "    'Apple': aapl,\n",
    "    'Amazon' : amzn,\n",
    "    'Google': goog,\n",
    "    'Microsoft': msft,\n",
    "    'Tesla' : tsla,\n",
    "    }, axis=0).round(decimals=4).to_latex())"
   ]
  },
  {
   "cell_type": "code",
   "execution_count": null,
   "metadata": {},
   "outputs": [],
   "source": []
  },
  {
   "cell_type": "code",
   "execution_count": null,
   "metadata": {},
   "outputs": [],
   "source": []
  }
 ],
 "metadata": {
  "kernelspec": {
   "display_name": "hse",
   "language": "python",
   "name": "python3"
  },
  "language_info": {
   "codemirror_mode": {
    "name": "ipython",
    "version": 3
   },
   "file_extension": ".py",
   "mimetype": "text/x-python",
   "name": "python",
   "nbconvert_exporter": "python",
   "pygments_lexer": "ipython3",
   "version": "3.10.8"
  },
  "orig_nbformat": 4,
  "vscode": {
   "interpreter": {
    "hash": "02409fb671b1ed46b2b92a72e18ceb6708409a9b6d1d011f25cd31b784aeb6de"
   }
  }
 },
 "nbformat": 4,
 "nbformat_minor": 2
}
