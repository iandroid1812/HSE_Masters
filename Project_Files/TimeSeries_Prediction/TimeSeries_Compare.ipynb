{
 "cells": [
  {
   "cell_type": "code",
   "execution_count": 1,
   "metadata": {},
   "outputs": [],
   "source": [
    "import os, sys\n",
    "\n",
    "parent = os.path.abspath('..')\n",
    "sys.path.insert(1, parent)"
   ]
  },
  {
   "cell_type": "code",
   "execution_count": 2,
   "metadata": {},
   "outputs": [],
   "source": [
    "from helper_funcs.preprocessing import total_timeseries, get_covariates\n",
    "from helper_funcs.inverse import inverse_func\n",
    "from helper_funcs.error import error_count\n",
    "from helper_funcs.prediction import model_compare\n",
    "\n",
    "from darts.utils.model_selection import train_test_split\n",
    "from darts.dataprocessing.transformers import StaticCovariatesTransformer, Scaler\n",
    "from pytorch_lightning.callbacks import ModelCheckpoint, RichProgressBar\n",
    "from darts.models import NLinearModel, TFTModel\n",
    "from darts import TimeSeries\n",
    "\n",
    "import pandas as pd \n",
    "\n",
    "RANDOM = 101\n",
    "INPUT_CHUNK = 15\n",
    "OUTPUT_CHUNK = 5\n",
    "TEST_SIZE = 0.2\n",
    "RETRAIN=True\n",
    "LAST=False\n",
    "RESET=False\n",
    "EXP_MA = 15\n",
    "SAVE = True\n",
    "EPOCHS = 100\n",
    "\n",
    "timeseries = total_timeseries(INPUT_CHUNK, market=True, sentiment=True, embeddings=True)\n",
    "timeseries = StaticCovariatesTransformer().fit_transform(timeseries)\n",
    "\n",
    "train, val = train_test_split(\n",
    "    timeseries,\n",
    "    axis=1,\n",
    "    test_size=TEST_SIZE,\n",
    "    input_size=INPUT_CHUNK,\n",
    "    horizon=OUTPUT_CHUNK,\n",
    "    vertical_split_type='model-aware'\n",
    ")\n",
    "\n",
    "data = [train, val]\n",
    "\n",
    "target_train, past_train, future_train, target_val, past_val, future_val, target_test, past_test, future_test = get_covariates(\n",
    "    data,\n",
    "    target='Close',\n",
    "    past_covariates=[],\n",
    "    embeddings=False\n",
    "    )\n",
    "\n",
    "scaler_target = Scaler()\n",
    "scaler_covariates = Scaler()\n",
    "\n",
    "target_train_scaled = scaler_target.fit_transform(target_train)\n",
    "target_val_scaled = scaler_target.transform(target_val)\n",
    "target_test_scaled = scaler_target.transform(target_test)"
   ]
  },
  {
   "cell_type": "code",
   "execution_count": 3,
   "metadata": {},
   "outputs": [],
   "source": [
    "# names = ['model_nlinear_HLOV', 'model_nlinear_HLOVS1', 'model_nlinear_HLOVS2', 'model_nlinear_HLOVE', 'model_tft_HLOV', 'model_tft_HLOVS1', 'model_tft_HLOVS2', 'model_tft_HLOVE']\n",
    "names = ['model_baseline_ ', 'model_nlinear_HLOV', 'model_nlinear_HLOVS2', 'model_nlinear_HLOVE', 'model_tft_HLOV', 'model_tft_HLOVS1', 'model_tft_HLOVE']"
   ]
  },
  {
   "cell_type": "code",
   "execution_count": 4,
   "metadata": {},
   "outputs": [
    {
     "name": "stdout",
     "output_type": "stream",
     "text": [
      "                Rank      MAPE       MAE        R2      RMSE     SMAPE\n",
      "baseline_          1  2.565375  1.313199  0.934381  1.673613  2.586731\n",
      "nlinear_HLOV       1  2.550596  1.303323  0.927964  1.707390  2.548938\n",
      "nlinear_HLOVS2     1  2.684359  1.362238  0.925333  1.738284  2.681404\n",
      "nlinear_HLOVE      1  4.476497  2.269002  0.804964  2.809401  4.462753\n",
      "tft_HLOV           1  2.469620  1.258324  0.938346  1.579567  2.480466\n",
      "tft_HLOVS          1  2.498124  1.277238  0.929188  1.692819  2.489215\n",
      "tft_HLOVE          1  2.148479  1.092153  0.950150  1.420327  2.146826\n"
     ]
    }
   ],
   "source": [
    "aapl = model_compare(scaler_target, target_val_scaled, names, 0, (20, 300))"
   ]
  },
  {
   "cell_type": "code",
   "execution_count": 5,
   "metadata": {},
   "outputs": [
    {
     "name": "stdout",
     "output_type": "stream",
     "text": [
      "                Rank      MAPE       MAE        R2      RMSE     SMAPE\n",
      "baseline_          1  1.483209  0.790689  0.723525  1.027324  1.483695\n",
      "nlinear_HLOV       1  1.698444  0.904396  0.619211  1.213525  1.700342\n",
      "nlinear_HLOVS2     1  1.661883  0.886539  0.640279  1.179476  1.665045\n",
      "nlinear_HLOVE      1  3.716309  1.976295 -0.606492  2.492559  3.714378\n",
      "tft_HLOV           1  1.378455  0.735566  0.762233  0.958919  1.378033\n",
      "tft_HLOVS          1  1.761824  0.929144  0.598621  1.245901  1.748397\n",
      "tft_HLOVE          1  1.616580  0.859356  0.664042  1.139853  1.601282\n"
     ]
    }
   ],
   "source": [
    "amzn = model_compare(scaler_target, target_val_scaled, names, 1, (20, 300))"
   ]
  },
  {
   "cell_type": "code",
   "execution_count": 6,
   "metadata": {},
   "outputs": [
    {
     "name": "stdout",
     "output_type": "stream",
     "text": [
      "                Rank      MAPE       MAE        R2      RMSE     SMAPE\n",
      "baseline_          1  2.293928  1.231937  0.711881  1.608714  2.294996\n",
      "nlinear_HLOV       1  2.841432  1.525060  0.479005  2.134403  2.841179\n",
      "nlinear_HLOVS2     1  2.826060  1.512826  0.470252  2.152259  2.824009\n",
      "nlinear_HLOVE      1  5.357076  2.903965 -0.516098  3.641022  5.365030\n",
      "tft_HLOV           1  2.076677  1.116324  0.747884  1.484774  2.078060\n",
      "tft_HLOVS          1  1.877557  1.006942  0.768733  1.422056  1.870129\n",
      "tft_HLOVE          1  2.065734  1.102186  0.708829  1.595637  2.048597\n"
     ]
    }
   ],
   "source": [
    "goog = model_compare(scaler_target, target_val_scaled, names, 2, (20, 300))"
   ]
  },
  {
   "cell_type": "code",
   "execution_count": 7,
   "metadata": {},
   "outputs": [
    {
     "name": "stdout",
     "output_type": "stream",
     "text": [
      "                Rank      MAPE       MAE        R2      RMSE     SMAPE\n",
      "baseline_          1  2.265531  1.202937  0.703121  1.576262  2.265684\n",
      "nlinear_HLOV       1  2.791058  1.482187  0.475684  2.067612  2.789953\n",
      "nlinear_HLOVS2     1  2.788387  1.479178  0.484328  2.050498  2.786320\n",
      "nlinear_HLOVE      1  6.955437  3.728700 -1.913053  4.873564  7.003946\n",
      "tft_HLOV           1  1.999451  1.062851  0.751383  1.423763  1.998928\n",
      "tft_HLOVS          1  1.844931  0.978699  0.763876  1.387529  1.837526\n",
      "tft_HLOVE          1  2.028139  1.069502  0.705733  1.548970  2.009747\n"
     ]
    }
   ],
   "source": [
    "googl = model_compare(scaler_target, target_val_scaled, names, 3, (20, 300))"
   ]
  },
  {
   "cell_type": "code",
   "execution_count": 8,
   "metadata": {},
   "outputs": [
    {
     "name": "stdout",
     "output_type": "stream",
     "text": [
      "                Rank      MAPE       MAE        R2      RMSE     SMAPE\n",
      "baseline_          1  1.815929  1.182108  0.930340  1.477347  1.828686\n",
      "nlinear_HLOV       1  2.002080  1.302072  0.911860  1.642360  2.003518\n",
      "nlinear_HLOVS2     1  2.070136  1.344079  0.907226  1.684984  2.071514\n",
      "nlinear_HLOVE      1  3.733400  2.417324  0.677150  3.143277  3.734783\n",
      "tft_HLOV           1  1.739176  1.144219  0.929364  1.470261  1.754619\n",
      "tft_HLOVS          1  1.681465  1.108834  0.931103  1.452057  1.693740\n",
      "tft_HLOVE          1  1.693565  1.096888  0.935928  1.400289  1.681869\n"
     ]
    }
   ],
   "source": [
    "msft = model_compare(scaler_target, target_val_scaled, names, 4, (20, 300))"
   ]
  },
  {
   "cell_type": "code",
   "execution_count": 9,
   "metadata": {},
   "outputs": [
    {
     "name": "stdout",
     "output_type": "stream",
     "text": [
      "                Rank       MAPE       MAE        R2      RMSE     SMAPE\n",
      "baseline_          1   5.102709  2.032091  0.799570  2.729829  5.091106\n",
      "nlinear_HLOV       1   5.967695  2.419837  0.710660  3.233697  5.980887\n",
      "nlinear_HLOVS2     1   5.976965  2.436333  0.708964  3.243160  5.977145\n",
      "nlinear_HLOVE      1   6.484025  2.565531  0.696476  3.312009  6.480512\n",
      "tft_HLOV           1   5.249876  2.113657  0.746230  3.028414  5.182109\n",
      "tft_HLOVS          1  10.611443  4.472159 -0.280298  6.802219  9.784446\n",
      "tft_HLOVE          1   5.182447  2.070537  0.783993  2.794018  5.135710\n"
     ]
    }
   ],
   "source": [
    "tsla = model_compare(scaler_target, target_val_scaled, names, 5, (10, 300))"
   ]
  },
  {
   "cell_type": "code",
   "execution_count": 10,
   "metadata": {},
   "outputs": [],
   "source": [
    "# pd.concat({\n",
    "#     'Apple': aapl,\n",
    "#     'Amazon' : amzn,\n",
    "#     'Google': goog,\n",
    "#     'Microsoft': msft,\n",
    "#     'Tesla' : tsla,\n",
    "#     }, axis=0).round(decimals=4)"
   ]
  },
  {
   "cell_type": "code",
   "execution_count": 11,
   "metadata": {},
   "outputs": [],
   "source": [
    "# print(pd.concat({\n",
    "#     'Apple': aapl,\n",
    "#     'Amazon' : amzn,\n",
    "#     'Google': goog,\n",
    "#     'Microsoft': msft,\n",
    "#     'Tesla' : tsla,\n",
    "#     }, axis=0).round(decimals=4).to_latex())"
   ]
  },
  {
   "cell_type": "code",
   "execution_count": null,
   "metadata": {},
   "outputs": [],
   "source": []
  },
  {
   "cell_type": "code",
   "execution_count": null,
   "metadata": {},
   "outputs": [],
   "source": []
  }
 ],
 "metadata": {
  "kernelspec": {
   "display_name": "hse",
   "language": "python",
   "name": "python3"
  },
  "language_info": {
   "codemirror_mode": {
    "name": "ipython",
    "version": 3
   },
   "file_extension": ".py",
   "mimetype": "text/x-python",
   "name": "python",
   "nbconvert_exporter": "python",
   "pygments_lexer": "ipython3",
   "version": "3.10.8"
  },
  "orig_nbformat": 4,
  "vscode": {
   "interpreter": {
    "hash": "02409fb671b1ed46b2b92a72e18ceb6708409a9b6d1d011f25cd31b784aeb6de"
   }
  }
 },
 "nbformat": 4,
 "nbformat_minor": 2
}
